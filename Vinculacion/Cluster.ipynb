{
 "cells": [
  {
   "cell_type": "markdown",
   "id": "969738f4-9984-40c1-935b-c5630703d438",
   "metadata": {},
   "source": [
    "# Viculación: Segmentación de Estudiantes"
   ]
  },
  {
   "cell_type": "markdown",
   "id": "11becffc-242d-4186-9f1c-9804faf17347",
   "metadata": {},
   "source": [
    " ## Names: Edgar Munoz Abad "
   ]
  },
  {
   "cell_type": "markdown",
   "id": "0d5d940c-d7c4-4c79-9028-3f55c5e3006e",
   "metadata": {},
   "source": [
    "## Carga de datos y librerias"
   ]
  },
  {
   "cell_type": "code",
   "execution_count": 1,
   "id": "7feb67a5-9470-42a7-a839-a9735247e7bd",
   "metadata": {
    "scrolled": true
   },
   "outputs": [],
   "source": [
    " ## Carga de datos: Luego de ordenar los datos en un solo archivo se procede \n",
    "import numpy as np\n",
    "import pandas as pd\n",
    "import matplotlib.pyplot as plt\n",
    "import seaborn as sns\n",
    "from sklearn.preprocessing import StandardScaler\n",
    "from sklearn.cluster import KMeans\n",
    "#import ace_tools as tools"
   ]
  },
  {
   "cell_type": "code",
   "execution_count": 2,
   "id": "18be8273-945c-47bb-8455-50ce7c7b155f",
   "metadata": {},
   "outputs": [],
   "source": [
    "path='data.xlsx'\n",
    "df = pd.read_excel(path)\n"
   ]
  },
  {
   "cell_type": "code",
   "execution_count": 3,
   "id": "96655194-c62b-4ba2-92cd-f9644f3301de",
   "metadata": {},
   "outputs": [
    {
     "data": {
      "text/html": [
       "<div>\n",
       "<style scoped>\n",
       "    .dataframe tbody tr th:only-of-type {\n",
       "        vertical-align: middle;\n",
       "    }\n",
       "\n",
       "    .dataframe tbody tr th {\n",
       "        vertical-align: top;\n",
       "    }\n",
       "\n",
       "    .dataframe thead th {\n",
       "        text-align: right;\n",
       "    }\n",
       "</style>\n",
       "<table border=\"1\" class=\"dataframe\">\n",
       "  <thead>\n",
       "    <tr style=\"text-align: right;\">\n",
       "      <th></th>\n",
       "      <th>Institucion</th>\n",
       "      <th>CEDULA ESTUDIANTE</th>\n",
       "      <th>APELLIDOS Y NOMBRES</th>\n",
       "      <th>FECHA DE NACIMIENTO \\nDÍA-MES-AÑO</th>\n",
       "      <th>TIENE CARNE \\nSI/NO</th>\n",
       "      <th>TIPOD</th>\n",
       "      <th>PORCENTAJE\\n%</th>\n",
       "      <th>GRADO O CURSO\\n2023 2024</th>\n",
       "    </tr>\n",
       "  </thead>\n",
       "  <tbody>\n",
       "    <tr>\n",
       "      <th>0</th>\n",
       "      <td>MANUELA CAÑISARES MATRIZ</td>\n",
       "      <td>2.250537e+09</td>\n",
       "      <td>MACIAS CAMPOVERDE YARELY FERNANDA</td>\n",
       "      <td>2019-07-02</td>\n",
       "      <td>SI</td>\n",
       "      <td>INTELECTUAL</td>\n",
       "      <td>0.36</td>\n",
       "      <td>INICIAL 2</td>\n",
       "    </tr>\n",
       "    <tr>\n",
       "      <th>1</th>\n",
       "      <td>MANUELA CAÑISARES MATRIZ</td>\n",
       "      <td>2.250537e+09</td>\n",
       "      <td>MACIAS CAMPOVERDE JANA VALENTINA</td>\n",
       "      <td>2019-07-02</td>\n",
       "      <td>SI</td>\n",
       "      <td>INTELECTUAL</td>\n",
       "      <td>0.36</td>\n",
       "      <td>INICIAL 2</td>\n",
       "    </tr>\n",
       "    <tr>\n",
       "      <th>2</th>\n",
       "      <td>MANUELA CAÑISARES MATRIZ</td>\n",
       "      <td>2.250538e+09</td>\n",
       "      <td>TAPUY GREFA ALEJANDRO ISAAC</td>\n",
       "      <td>2019-07-11</td>\n",
       "      <td>NO</td>\n",
       "      <td>NaN</td>\n",
       "      <td>NaN</td>\n",
       "      <td>INICIAL 2</td>\n",
       "    </tr>\n",
       "    <tr>\n",
       "      <th>3</th>\n",
       "      <td>MANUELA CAÑISARES MATRIZ</td>\n",
       "      <td>2.250466e+09</td>\n",
       "      <td>GOYES VILLALTA LUIS AARON</td>\n",
       "      <td>2017-12-05</td>\n",
       "      <td>SI</td>\n",
       "      <td>INTELECTUAL</td>\n",
       "      <td>0.36</td>\n",
       "      <td>1RO EGB</td>\n",
       "    </tr>\n",
       "    <tr>\n",
       "      <th>4</th>\n",
       "      <td>MANUELA CAÑISARES MATRIZ</td>\n",
       "      <td>1.352713e+09</td>\n",
       "      <td>SANCHEZ OLMEDO ALEXANDRA GUADALUPE</td>\n",
       "      <td>2017-10-06</td>\n",
       "      <td>SI</td>\n",
       "      <td>FISICA</td>\n",
       "      <td>0.85</td>\n",
       "      <td>1RO EGB</td>\n",
       "    </tr>\n",
       "  </tbody>\n",
       "</table>\n",
       "</div>"
      ],
      "text/plain": [
       "                Institucion  CEDULA ESTUDIANTE   \\\n",
       "0  MANUELA CAÑISARES MATRIZ        2.250537e+09   \n",
       "1  MANUELA CAÑISARES MATRIZ        2.250537e+09   \n",
       "2  MANUELA CAÑISARES MATRIZ        2.250538e+09   \n",
       "3  MANUELA CAÑISARES MATRIZ        2.250466e+09   \n",
       "4  MANUELA CAÑISARES MATRIZ        1.352713e+09   \n",
       "\n",
       "                   APELLIDOS Y NOMBRES FECHA DE NACIMIENTO \\nDÍA-MES-AÑO  \\\n",
       "0   MACIAS CAMPOVERDE YARELY FERNANDA                         2019-07-02   \n",
       "1    MACIAS CAMPOVERDE JANA VALENTINA                         2019-07-02   \n",
       "2         TAPUY GREFA ALEJANDRO ISAAC                         2019-07-11   \n",
       "3           GOYES VILLALTA LUIS AARON                         2017-12-05   \n",
       "4  SANCHEZ OLMEDO ALEXANDRA GUADALUPE                         2017-10-06   \n",
       "\n",
       "  TIENE CARNE \\nSI/NO        TIPOD PORCENTAJE\\n% GRADO O CURSO\\n2023 2024  \n",
       "0                  SI  INTELECTUAL          0.36                INICIAL 2  \n",
       "1                  SI  INTELECTUAL          0.36                INICIAL 2  \n",
       "2                  NO          NaN           NaN                INICIAL 2  \n",
       "3                  SI  INTELECTUAL          0.36                  1RO EGB  \n",
       "4                  SI       FISICA          0.85                  1RO EGB  "
      ]
     },
     "execution_count": 3,
     "metadata": {},
     "output_type": "execute_result"
    }
   ],
   "source": [
    "# mostrar la data\n",
    "df.head()"
   ]
  },
  {
   "cell_type": "markdown",
   "id": "d4a2a286-a477-4388-8778-3870a8bc489a",
   "metadata": {},
   "source": [
    "## Procesamiento"
   ]
  },
  {
   "cell_type": "markdown",
   "id": "8400aa7f-f63e-452e-af10-d1781eb79651",
   "metadata": {},
   "source": [
    "En esta seccion se procesara la data de cada una de las columnas. Al tener poca data no es faltible eliminar la data, si no q se aplicara tecnicas para autorellenar los valores faltante"
   ]
  },
  {
   "cell_type": "markdown",
   "id": "a1556f13-3795-4364-b3fa-53557584bf6e",
   "metadata": {},
   "source": [
    "### Transformacion de variables"
   ]
  },
  {
   "cell_type": "code",
   "execution_count": 4,
   "id": "4ea7d750-f955-4997-9e90-316c58a117c1",
   "metadata": {},
   "outputs": [
    {
     "data": {
      "text/plain": [
       "array(['INTELECTUAL', nan, 'FISICA', 'PSICOSOCIAL', 'VISUAL ',\n",
       "       'AUDITIVA ', 'INTELECTUAL ', 'VISUAL', 'intelectual', 'visual',\n",
       "       'Autismo'], dtype=object)"
      ]
     },
     "execution_count": 4,
     "metadata": {},
     "output_type": "execute_result"
    }
   ],
   "source": [
    "df['TIPOD'].unique()"
   ]
  },
  {
   "cell_type": "code",
   "execution_count": 6,
   "id": "2846403f-3ca6-46eb-bc80-68394bceccd8",
   "metadata": {},
   "outputs": [
    {
     "data": {
      "text/plain": [
       "Institucion                           0\n",
       "CEDULA ESTUDIANTE                    13\n",
       "APELLIDOS Y NOMBRES                   0\n",
       "FECHA DE NACIMIENTO \\nDÍA-MES-AÑO    32\n",
       "TIENE CARNE \\nSI/NO                  28\n",
       "TIPOD                                14\n",
       "PORCENTAJE\\n%                        23\n",
       "GRADO O CURSO\\n2023 2024              3\n",
       "dtype: int64"
      ]
     },
     "execution_count": 6,
     "metadata": {},
     "output_type": "execute_result"
    }
   ],
   "source": [
    "\n",
    "df.isnull().sum()"
   ]
  },
  {
   "cell_type": "code",
   "execution_count": 9,
   "id": "cd78dbff-57ec-4c6a-b401-3e15a0f0d6ac",
   "metadata": {},
   "outputs": [],
   "source": [
    "\n",
    "#Esatndarizar solo en mayusculas\n",
    "df['TIPOD'] = df['TIPOD'].str.upper()\n",
    "# borrar espacio al inicio o final\n",
    "df['TIPOD'] = df['TIPOD'].apply(lambda x: str(x).strip() if isinstance(x, str) else x)\n",
    "df['APELLIDOS Y NOMBRES'] = df['APELLIDOS Y NOMBRES'].apply(lambda x: str(x).strip() if isinstance(x, str) else x)\n",
    "#df['TIPOD'].unique()"
   ]
  },
  {
   "cell_type": "code",
   "execution_count": null,
   "id": "817be06d-dcaf-4bc4-bc49-db64d208883c",
   "metadata": {},
   "outputs": [],
   "source": [
    "df['TIPOD'].unique()"
   ]
  },
  {
   "cell_type": "markdown",
   "id": "a21e53b2-7bd1-4d9f-8755-96069a630b47",
   "metadata": {},
   "source": [
    "### Procesar Nulos"
   ]
  },
  {
   "cell_type": "code",
   "execution_count": 8,
   "id": "7703c2d7-4e79-450e-9eaa-3b43beb004be",
   "metadata": {},
   "outputs": [
    {
     "data": {
      "text/plain": [
       "Institucion                           0\n",
       "CEDULA ESTUDIANTE                    13\n",
       "APELLIDOS Y NOMBRES                   0\n",
       "FECHA DE NACIMIENTO \\nDÍA-MES-AÑO    32\n",
       "TIENE CARNE \\nSI/NO                  28\n",
       "TIPOD                                14\n",
       "PORCENTAJE\\n%                        23\n",
       "GRADO O CURSO\\n2023 2024              3\n",
       "dtype: int64"
      ]
     },
     "execution_count": 8,
     "metadata": {},
     "output_type": "execute_result"
    }
   ],
   "source": [
    "\n",
    "df.isnull().sum()\n"
   ]
  },
  {
   "cell_type": "markdown",
   "id": "b110fdec-5ff8-4c52-9b66-9bfc64b0e198",
   "metadata": {
    "editable": true,
    "slideshow": {
     "slide_type": ""
    },
    "tags": []
   },
   "source": [
    "#### Nulos: Tiene Carnet, Tiene discapacidad, porcentaje, CEDULA"
   ]
  },
  {
   "cell_type": "markdown",
   "id": "16a87eeb-a7e6-4162-b223-db627f2a0149",
   "metadata": {},
   "source": [
    "Se rellenara a las filas que tienen las 3 columnas nulas con la siguiente informacion: Tiene Carnet=NO, TipoD=NINGUNA, Porcentaje=0"
   ]
  },
  {
   "cell_type": "code",
   "execution_count": 10,
   "id": "1c5b5425-da79-46e6-95cf-f0b0a5f595c2",
   "metadata": {},
   "outputs": [
    {
     "data": {
      "text/html": [
       "<div>\n",
       "<style scoped>\n",
       "    .dataframe tbody tr th:only-of-type {\n",
       "        vertical-align: middle;\n",
       "    }\n",
       "\n",
       "    .dataframe tbody tr th {\n",
       "        vertical-align: top;\n",
       "    }\n",
       "\n",
       "    .dataframe thead th {\n",
       "        text-align: right;\n",
       "    }\n",
       "</style>\n",
       "<table border=\"1\" class=\"dataframe\">\n",
       "  <thead>\n",
       "    <tr style=\"text-align: right;\">\n",
       "      <th></th>\n",
       "      <th>Institucion</th>\n",
       "      <th>CEDULA ESTUDIANTE</th>\n",
       "      <th>APELLIDOS Y NOMBRES</th>\n",
       "      <th>FECHA DE NACIMIENTO \\nDÍA-MES-AÑO</th>\n",
       "      <th>TIENE CARNE \\nSI/NO</th>\n",
       "      <th>TIPOD</th>\n",
       "      <th>PORCENTAJE\\n%</th>\n",
       "      <th>GRADO O CURSO\\n2023 2024</th>\n",
       "    </tr>\n",
       "  </thead>\n",
       "  <tbody>\n",
       "    <tr>\n",
       "      <th>6</th>\n",
       "      <td>MANUELA CAÑISARES MATRIZ</td>\n",
       "      <td>2.150546e+09</td>\n",
       "      <td>NAANCH TSENKUSH PAUL JON</td>\n",
       "      <td>NaT</td>\n",
       "      <td>NaN</td>\n",
       "      <td>NaN</td>\n",
       "      <td>NaN</td>\n",
       "      <td>1RO EGB</td>\n",
       "    </tr>\n",
       "    <tr>\n",
       "      <th>19</th>\n",
       "      <td>MANUELA CAÑISARES MATRIZ</td>\n",
       "      <td>2.250347e+09</td>\n",
       "      <td>ANDY SHIGUANGO NEYMAR ANGEL</td>\n",
       "      <td>NaT</td>\n",
       "      <td>NaN</td>\n",
       "      <td>NaN</td>\n",
       "      <td>NaN</td>\n",
       "      <td>4TO EGB</td>\n",
       "    </tr>\n",
       "    <tr>\n",
       "      <th>26</th>\n",
       "      <td>MANUELA CAÑISARES MATRIZ</td>\n",
       "      <td>2.250415e+09</td>\n",
       "      <td>QUEZADA ALARCON BRITHANY JOHANNA</td>\n",
       "      <td>NaT</td>\n",
       "      <td>NaN</td>\n",
       "      <td>NaN</td>\n",
       "      <td>NaN</td>\n",
       "      <td>NaN</td>\n",
       "    </tr>\n",
       "    <tr>\n",
       "      <th>38</th>\n",
       "      <td>MANUELA CAÑISARES MATRIZ</td>\n",
       "      <td>1.101205e+09</td>\n",
       "      <td>VASQUEZ ARDILA JONATHAN</td>\n",
       "      <td>NaT</td>\n",
       "      <td>NaN</td>\n",
       "      <td>NaN</td>\n",
       "      <td>NaN</td>\n",
       "      <td>5TO EGB</td>\n",
       "    </tr>\n",
       "    <tr>\n",
       "      <th>39</th>\n",
       "      <td>MANUELA CAÑISARES MATRIZ</td>\n",
       "      <td>2.250341e+09</td>\n",
       "      <td>TENEZACA REMACHE JENNIFER ADRIANA</td>\n",
       "      <td>NaT</td>\n",
       "      <td>NaN</td>\n",
       "      <td>NaN</td>\n",
       "      <td>NaN</td>\n",
       "      <td>5TO EGB</td>\n",
       "    </tr>\n",
       "    <tr>\n",
       "      <th>45</th>\n",
       "      <td>MANUELA CAÑISARES MATRIZ</td>\n",
       "      <td>2.200680e+09</td>\n",
       "      <td>MORA AGUINDA FLOR MARINA</td>\n",
       "      <td>NaT</td>\n",
       "      <td>NaN</td>\n",
       "      <td>NaN</td>\n",
       "      <td>NaN</td>\n",
       "      <td>6TO EGB</td>\n",
       "    </tr>\n",
       "    <tr>\n",
       "      <th>46</th>\n",
       "      <td>MANUELA CAÑISARES MATRIZ</td>\n",
       "      <td>2.200661e+09</td>\n",
       "      <td>GUALLCO TIPAN BRIGITH SAURI</td>\n",
       "      <td>NaT</td>\n",
       "      <td>NaN</td>\n",
       "      <td>NaN</td>\n",
       "      <td>NaN</td>\n",
       "      <td>6TO EGB</td>\n",
       "    </tr>\n",
       "    <tr>\n",
       "      <th>143</th>\n",
       "      <td>MANUELA CAÑISARES MATRIZ</td>\n",
       "      <td>2.200277e+09</td>\n",
       "      <td>QUIÑONEZ GREFA KEVIN JOEL</td>\n",
       "      <td>NaT</td>\n",
       "      <td>NaN</td>\n",
       "      <td>NaN</td>\n",
       "      <td>NaN</td>\n",
       "      <td>3ERO BACHILLERATO</td>\n",
       "    </tr>\n",
       "  </tbody>\n",
       "</table>\n",
       "</div>"
      ],
      "text/plain": [
       "                  Institucion  CEDULA ESTUDIANTE   \\\n",
       "6    MANUELA CAÑISARES MATRIZ        2.150546e+09   \n",
       "19   MANUELA CAÑISARES MATRIZ        2.250347e+09   \n",
       "26   MANUELA CAÑISARES MATRIZ        2.250415e+09   \n",
       "38   MANUELA CAÑISARES MATRIZ        1.101205e+09   \n",
       "39   MANUELA CAÑISARES MATRIZ        2.250341e+09   \n",
       "45   MANUELA CAÑISARES MATRIZ        2.200680e+09   \n",
       "46   MANUELA CAÑISARES MATRIZ        2.200661e+09   \n",
       "143  MANUELA CAÑISARES MATRIZ        2.200277e+09   \n",
       "\n",
       "                   APELLIDOS Y NOMBRES FECHA DE NACIMIENTO \\nDÍA-MES-AÑO  \\\n",
       "6             NAANCH TSENKUSH PAUL JON                               NaT   \n",
       "19         ANDY SHIGUANGO NEYMAR ANGEL                               NaT   \n",
       "26    QUEZADA ALARCON BRITHANY JOHANNA                               NaT   \n",
       "38             VASQUEZ ARDILA JONATHAN                               NaT   \n",
       "39   TENEZACA REMACHE JENNIFER ADRIANA                               NaT   \n",
       "45            MORA AGUINDA FLOR MARINA                               NaT   \n",
       "46         GUALLCO TIPAN BRIGITH SAURI                               NaT   \n",
       "143          QUIÑONEZ GREFA KEVIN JOEL                               NaT   \n",
       "\n",
       "    TIENE CARNE \\nSI/NO TIPOD PORCENTAJE\\n% GRADO O CURSO\\n2023 2024  \n",
       "6                   NaN   NaN           NaN                  1RO EGB  \n",
       "19                  NaN   NaN           NaN                  4TO EGB  \n",
       "26                  NaN   NaN           NaN                      NaN  \n",
       "38                  NaN   NaN           NaN                  5TO EGB  \n",
       "39                  NaN   NaN           NaN                  5TO EGB  \n",
       "45                  NaN   NaN           NaN                  6TO EGB  \n",
       "46                  NaN   NaN           NaN                  6TO EGB  \n",
       "143                 NaN   NaN           NaN        3ERO BACHILLERATO  "
      ]
     },
     "execution_count": 10,
     "metadata": {},
     "output_type": "execute_result"
    }
   ],
   "source": [
    "#MOSTRAR LAS COLUMNAS DE 3 NULOS\n",
    "df.loc[(df.loc[:, \"TIENE CARNE \\nSI/NO\"].isnull()) & (df.loc[:, \"TIPOD\"].isnull()) & (df.loc[:, \"PORCENTAJE\\n%\"].isnull())]"
   ]
  },
  {
   "cell_type": "code",
   "execution_count": 11,
   "id": "2b49d6be-4bb7-4f40-9a3a-2d0e733dab0d",
   "metadata": {},
   "outputs": [],
   "source": [
    "# COLOCAR VALORES RESPECTIVOS PARA LOS 3 VALORES NULOS EN COMBINACION\n",
    "def replace_values(row):\n",
    "    if pd.isnull(row['TIENE CARNE \\nSI/NO']) and  pd.isnull(row['TIPOD']) and  pd.isnull(row['PORCENTAJE\\n%']):\n",
    "        row['TIENE CARNE \\nSI/NO'] = 'NO'\n",
    "        row['TIPOD'] = 'NINGUNA'\n",
    "        row['PORCENTAJE\\n%'] = 0\n",
    "    return row\n",
    "df = df.apply(replace_values, axis=1)    "
   ]
  },
  {
   "cell_type": "code",
   "execution_count": 12,
   "id": "ffec50e8-5342-46fb-9ece-9e9e32b78290",
   "metadata": {},
   "outputs": [
    {
     "data": {
      "text/html": [
       "<div>\n",
       "<style scoped>\n",
       "    .dataframe tbody tr th:only-of-type {\n",
       "        vertical-align: middle;\n",
       "    }\n",
       "\n",
       "    .dataframe tbody tr th {\n",
       "        vertical-align: top;\n",
       "    }\n",
       "\n",
       "    .dataframe thead th {\n",
       "        text-align: right;\n",
       "    }\n",
       "</style>\n",
       "<table border=\"1\" class=\"dataframe\">\n",
       "  <thead>\n",
       "    <tr style=\"text-align: right;\">\n",
       "      <th></th>\n",
       "      <th>Institucion</th>\n",
       "      <th>CEDULA ESTUDIANTE</th>\n",
       "      <th>APELLIDOS Y NOMBRES</th>\n",
       "      <th>FECHA DE NACIMIENTO \\nDÍA-MES-AÑO</th>\n",
       "      <th>TIENE CARNE \\nSI/NO</th>\n",
       "      <th>TIPOD</th>\n",
       "      <th>PORCENTAJE\\n%</th>\n",
       "      <th>GRADO O CURSO\\n2023 2024</th>\n",
       "    </tr>\n",
       "  </thead>\n",
       "  <tbody>\n",
       "    <tr>\n",
       "      <th>6</th>\n",
       "      <td>MANUELA CAÑISARES MATRIZ</td>\n",
       "      <td>2.150546e+09</td>\n",
       "      <td>NAANCH TSENKUSH PAUL JON</td>\n",
       "      <td>NaT</td>\n",
       "      <td>NO</td>\n",
       "      <td>NINGUNA</td>\n",
       "      <td>0</td>\n",
       "      <td>1RO EGB</td>\n",
       "    </tr>\n",
       "    <tr>\n",
       "      <th>19</th>\n",
       "      <td>MANUELA CAÑISARES MATRIZ</td>\n",
       "      <td>2.250347e+09</td>\n",
       "      <td>ANDY SHIGUANGO NEYMAR ANGEL</td>\n",
       "      <td>NaT</td>\n",
       "      <td>NO</td>\n",
       "      <td>NINGUNA</td>\n",
       "      <td>0</td>\n",
       "      <td>4TO EGB</td>\n",
       "    </tr>\n",
       "    <tr>\n",
       "      <th>26</th>\n",
       "      <td>MANUELA CAÑISARES MATRIZ</td>\n",
       "      <td>2.250415e+09</td>\n",
       "      <td>QUEZADA ALARCON BRITHANY JOHANNA</td>\n",
       "      <td>NaT</td>\n",
       "      <td>NO</td>\n",
       "      <td>NINGUNA</td>\n",
       "      <td>0</td>\n",
       "      <td>NaN</td>\n",
       "    </tr>\n",
       "    <tr>\n",
       "      <th>38</th>\n",
       "      <td>MANUELA CAÑISARES MATRIZ</td>\n",
       "      <td>1.101205e+09</td>\n",
       "      <td>VASQUEZ ARDILA JONATHAN</td>\n",
       "      <td>NaT</td>\n",
       "      <td>NO</td>\n",
       "      <td>NINGUNA</td>\n",
       "      <td>0</td>\n",
       "      <td>5TO EGB</td>\n",
       "    </tr>\n",
       "    <tr>\n",
       "      <th>39</th>\n",
       "      <td>MANUELA CAÑISARES MATRIZ</td>\n",
       "      <td>2.250341e+09</td>\n",
       "      <td>TENEZACA REMACHE JENNIFER ADRIANA</td>\n",
       "      <td>NaT</td>\n",
       "      <td>NO</td>\n",
       "      <td>NINGUNA</td>\n",
       "      <td>0</td>\n",
       "      <td>5TO EGB</td>\n",
       "    </tr>\n",
       "    <tr>\n",
       "      <th>45</th>\n",
       "      <td>MANUELA CAÑISARES MATRIZ</td>\n",
       "      <td>2.200680e+09</td>\n",
       "      <td>MORA AGUINDA FLOR MARINA</td>\n",
       "      <td>NaT</td>\n",
       "      <td>NO</td>\n",
       "      <td>NINGUNA</td>\n",
       "      <td>0</td>\n",
       "      <td>6TO EGB</td>\n",
       "    </tr>\n",
       "    <tr>\n",
       "      <th>46</th>\n",
       "      <td>MANUELA CAÑISARES MATRIZ</td>\n",
       "      <td>2.200661e+09</td>\n",
       "      <td>GUALLCO TIPAN BRIGITH SAURI</td>\n",
       "      <td>NaT</td>\n",
       "      <td>NO</td>\n",
       "      <td>NINGUNA</td>\n",
       "      <td>0</td>\n",
       "      <td>6TO EGB</td>\n",
       "    </tr>\n",
       "    <tr>\n",
       "      <th>143</th>\n",
       "      <td>MANUELA CAÑISARES MATRIZ</td>\n",
       "      <td>2.200277e+09</td>\n",
       "      <td>QUIÑONEZ GREFA KEVIN JOEL</td>\n",
       "      <td>NaT</td>\n",
       "      <td>NO</td>\n",
       "      <td>NINGUNA</td>\n",
       "      <td>0</td>\n",
       "      <td>3ERO BACHILLERATO</td>\n",
       "    </tr>\n",
       "  </tbody>\n",
       "</table>\n",
       "</div>"
      ],
      "text/plain": [
       "                  Institucion  CEDULA ESTUDIANTE   \\\n",
       "6    MANUELA CAÑISARES MATRIZ        2.150546e+09   \n",
       "19   MANUELA CAÑISARES MATRIZ        2.250347e+09   \n",
       "26   MANUELA CAÑISARES MATRIZ        2.250415e+09   \n",
       "38   MANUELA CAÑISARES MATRIZ        1.101205e+09   \n",
       "39   MANUELA CAÑISARES MATRIZ        2.250341e+09   \n",
       "45   MANUELA CAÑISARES MATRIZ        2.200680e+09   \n",
       "46   MANUELA CAÑISARES MATRIZ        2.200661e+09   \n",
       "143  MANUELA CAÑISARES MATRIZ        2.200277e+09   \n",
       "\n",
       "                   APELLIDOS Y NOMBRES FECHA DE NACIMIENTO \\nDÍA-MES-AÑO  \\\n",
       "6             NAANCH TSENKUSH PAUL JON                               NaT   \n",
       "19         ANDY SHIGUANGO NEYMAR ANGEL                               NaT   \n",
       "26    QUEZADA ALARCON BRITHANY JOHANNA                               NaT   \n",
       "38             VASQUEZ ARDILA JONATHAN                               NaT   \n",
       "39   TENEZACA REMACHE JENNIFER ADRIANA                               NaT   \n",
       "45            MORA AGUINDA FLOR MARINA                               NaT   \n",
       "46         GUALLCO TIPAN BRIGITH SAURI                               NaT   \n",
       "143          QUIÑONEZ GREFA KEVIN JOEL                               NaT   \n",
       "\n",
       "    TIENE CARNE \\nSI/NO    TIPOD PORCENTAJE\\n% GRADO O CURSO\\n2023 2024  \n",
       "6                    NO  NINGUNA             0                  1RO EGB  \n",
       "19                   NO  NINGUNA             0                  4TO EGB  \n",
       "26                   NO  NINGUNA             0                      NaN  \n",
       "38                   NO  NINGUNA             0                  5TO EGB  \n",
       "39                   NO  NINGUNA             0                  5TO EGB  \n",
       "45                   NO  NINGUNA             0                  6TO EGB  \n",
       "46                   NO  NINGUNA             0                  6TO EGB  \n",
       "143                  NO  NINGUNA             0        3ERO BACHILLERATO  "
      ]
     },
     "execution_count": 12,
     "metadata": {},
     "output_type": "execute_result"
    }
   ],
   "source": [
    "df.loc[(df.loc[:, \"TIENE CARNE \\nSI/NO\"]=='NO') & (df.loc[:, \"TIPOD\"]=='NINGUNA') & (df.loc[:, \"PORCENTAJE\\n%\"]==0)]"
   ]
  },
  {
   "cell_type": "markdown",
   "id": "52f2f357-acb1-4cfc-b811-d217f222dbc9",
   "metadata": {},
   "source": [
    "#### Nulos: Tiene discapacidad"
   ]
  },
  {
   "cell_type": "code",
   "execution_count": 13,
   "id": "c67e7fba-f968-4527-83ab-ea9ac8728690",
   "metadata": {},
   "outputs": [
    {
     "data": {
      "text/html": [
       "<div>\n",
       "<style scoped>\n",
       "    .dataframe tbody tr th:only-of-type {\n",
       "        vertical-align: middle;\n",
       "    }\n",
       "\n",
       "    .dataframe tbody tr th {\n",
       "        vertical-align: top;\n",
       "    }\n",
       "\n",
       "    .dataframe thead th {\n",
       "        text-align: right;\n",
       "    }\n",
       "</style>\n",
       "<table border=\"1\" class=\"dataframe\">\n",
       "  <thead>\n",
       "    <tr style=\"text-align: right;\">\n",
       "      <th></th>\n",
       "      <th>Institucion</th>\n",
       "      <th>CEDULA ESTUDIANTE</th>\n",
       "      <th>APELLIDOS Y NOMBRES</th>\n",
       "      <th>FECHA DE NACIMIENTO \\nDÍA-MES-AÑO</th>\n",
       "      <th>TIENE CARNE \\nSI/NO</th>\n",
       "      <th>TIPOD</th>\n",
       "      <th>PORCENTAJE\\n%</th>\n",
       "      <th>GRADO O CURSO\\n2023 2024</th>\n",
       "    </tr>\n",
       "  </thead>\n",
       "  <tbody>\n",
       "    <tr>\n",
       "      <th>2</th>\n",
       "      <td>MANUELA CAÑISARES MATRIZ</td>\n",
       "      <td>2.250538e+09</td>\n",
       "      <td>TAPUY GREFA ALEJANDRO ISAAC</td>\n",
       "      <td>2019-07-11</td>\n",
       "      <td>NO</td>\n",
       "      <td>NaN</td>\n",
       "      <td>NaN</td>\n",
       "      <td>INICIAL 2</td>\n",
       "    </tr>\n",
       "    <tr>\n",
       "      <th>20</th>\n",
       "      <td>MANUELA CAÑISARES MATRIZ</td>\n",
       "      <td>2.250391e+09</td>\n",
       "      <td>ALVAREZ TROYA DANIEL FERNANDO</td>\n",
       "      <td>2015-09-05</td>\n",
       "      <td>NO</td>\n",
       "      <td>NaN</td>\n",
       "      <td>NaN</td>\n",
       "      <td>4TO EGB</td>\n",
       "    </tr>\n",
       "    <tr>\n",
       "      <th>31</th>\n",
       "      <td>MANUELA CAÑISARES MATRIZ</td>\n",
       "      <td>2.250422e+09</td>\n",
       "      <td>GARCIA GARCIA DARWIN ALEJANDRO</td>\n",
       "      <td>2012-12-09</td>\n",
       "      <td>NO</td>\n",
       "      <td>NaN</td>\n",
       "      <td>NaN</td>\n",
       "      <td>5TO EGB</td>\n",
       "    </tr>\n",
       "    <tr>\n",
       "      <th>47</th>\n",
       "      <td>MANUELA CAÑISARES MATRIZ</td>\n",
       "      <td>2.200661e+09</td>\n",
       "      <td>GREFA AGUINDA INTI RUMI</td>\n",
       "      <td>2012-08-22</td>\n",
       "      <td>SI</td>\n",
       "      <td>NaN</td>\n",
       "      <td>NaN</td>\n",
       "      <td>6TO EGB</td>\n",
       "    </tr>\n",
       "    <tr>\n",
       "      <th>49</th>\n",
       "      <td>MANUELA CAÑISARES MATRIZ</td>\n",
       "      <td>2.250138e+09</td>\n",
       "      <td>QUEZADA ZAMBRANO JOSE LUIS</td>\n",
       "      <td>2012-09-23</td>\n",
       "      <td>NO</td>\n",
       "      <td>NaN</td>\n",
       "      <td>NaN</td>\n",
       "      <td>6TO EGB</td>\n",
       "    </tr>\n",
       "    <tr>\n",
       "      <th>61</th>\n",
       "      <td>MANUELA CAÑISARES MATRIZ</td>\n",
       "      <td>2.250100e+09</td>\n",
       "      <td>LAPO JUELA SARAHI STEFANIA</td>\n",
       "      <td>2009-03-15</td>\n",
       "      <td>NO</td>\n",
       "      <td>NaN</td>\n",
       "      <td>NaN</td>\n",
       "      <td>8VO EGB</td>\n",
       "    </tr>\n",
       "  </tbody>\n",
       "</table>\n",
       "</div>"
      ],
      "text/plain": [
       "                 Institucion  CEDULA ESTUDIANTE   \\\n",
       "2   MANUELA CAÑISARES MATRIZ        2.250538e+09   \n",
       "20  MANUELA CAÑISARES MATRIZ        2.250391e+09   \n",
       "31  MANUELA CAÑISARES MATRIZ        2.250422e+09   \n",
       "47  MANUELA CAÑISARES MATRIZ        2.200661e+09   \n",
       "49  MANUELA CAÑISARES MATRIZ        2.250138e+09   \n",
       "61  MANUELA CAÑISARES MATRIZ        2.250100e+09   \n",
       "\n",
       "               APELLIDOS Y NOMBRES FECHA DE NACIMIENTO \\nDÍA-MES-AÑO  \\\n",
       "2      TAPUY GREFA ALEJANDRO ISAAC                        2019-07-11   \n",
       "20   ALVAREZ TROYA DANIEL FERNANDO                        2015-09-05   \n",
       "31  GARCIA GARCIA DARWIN ALEJANDRO                        2012-12-09   \n",
       "47         GREFA AGUINDA INTI RUMI                        2012-08-22   \n",
       "49      QUEZADA ZAMBRANO JOSE LUIS                        2012-09-23   \n",
       "61      LAPO JUELA SARAHI STEFANIA                        2009-03-15   \n",
       "\n",
       "   TIENE CARNE \\nSI/NO TIPOD PORCENTAJE\\n% GRADO O CURSO\\n2023 2024  \n",
       "2                   NO   NaN           NaN                INICIAL 2  \n",
       "20                  NO   NaN           NaN                  4TO EGB  \n",
       "31                  NO   NaN           NaN                  5TO EGB  \n",
       "47                  SI   NaN           NaN                  6TO EGB  \n",
       "49                  NO   NaN           NaN                  6TO EGB  \n",
       "61                  NO   NaN           NaN                  8VO EGB  "
      ]
     },
     "execution_count": 13,
     "metadata": {},
     "output_type": "execute_result"
    }
   ],
   "source": [
    "\n",
    "df.loc[(df.loc[:, \"TIPOD\"].isnull())]"
   ]
  },
  {
   "cell_type": "markdown",
   "id": "0763d754-f5b7-459b-8398-c43e33a0d2a0",
   "metadata": {},
   "source": [
    "SE CARGA LOS VALORES EN FUNCION DE LA COLUMNA TIENE CARNE \\nSI/NO"
   ]
  },
  {
   "cell_type": "code",
   "execution_count": 14,
   "id": "0e4ddb54-5116-4a55-a70d-f94eaad0b877",
   "metadata": {},
   "outputs": [],
   "source": [
    "#RELLENAR LOS NULOS DE TIPO DE DISCAPACIDA CON NIGUNA A LOS QUE NO TIENE CARNET\n",
    "df[\"TIPOD\"] = np.where(df[\"TIENE CARNE \\nSI/NO\"]=='NO', 'NINGUNA',df[\"TIPOD\"])"
   ]
  },
  {
   "cell_type": "code",
   "execution_count": 15,
   "id": "fca5ab69-a3ec-476e-8205-1c16f0ad3ee3",
   "metadata": {},
   "outputs": [
    {
     "data": {
      "text/html": [
       "<div>\n",
       "<style scoped>\n",
       "    .dataframe tbody tr th:only-of-type {\n",
       "        vertical-align: middle;\n",
       "    }\n",
       "\n",
       "    .dataframe tbody tr th {\n",
       "        vertical-align: top;\n",
       "    }\n",
       "\n",
       "    .dataframe thead th {\n",
       "        text-align: right;\n",
       "    }\n",
       "</style>\n",
       "<table border=\"1\" class=\"dataframe\">\n",
       "  <thead>\n",
       "    <tr style=\"text-align: right;\">\n",
       "      <th></th>\n",
       "      <th>Institucion</th>\n",
       "      <th>CEDULA ESTUDIANTE</th>\n",
       "      <th>APELLIDOS Y NOMBRES</th>\n",
       "      <th>FECHA DE NACIMIENTO \\nDÍA-MES-AÑO</th>\n",
       "      <th>TIENE CARNE \\nSI/NO</th>\n",
       "      <th>TIPOD</th>\n",
       "      <th>PORCENTAJE\\n%</th>\n",
       "      <th>GRADO O CURSO\\n2023 2024</th>\n",
       "    </tr>\n",
       "  </thead>\n",
       "  <tbody>\n",
       "    <tr>\n",
       "      <th>47</th>\n",
       "      <td>MANUELA CAÑISARES MATRIZ</td>\n",
       "      <td>2.200661e+09</td>\n",
       "      <td>GREFA AGUINDA INTI RUMI</td>\n",
       "      <td>2012-08-22</td>\n",
       "      <td>SI</td>\n",
       "      <td>NaN</td>\n",
       "      <td>NaN</td>\n",
       "      <td>6TO EGB</td>\n",
       "    </tr>\n",
       "  </tbody>\n",
       "</table>\n",
       "</div>"
      ],
      "text/plain": [
       "                 Institucion  CEDULA ESTUDIANTE       APELLIDOS Y NOMBRES  \\\n",
       "47  MANUELA CAÑISARES MATRIZ        2.200661e+09  GREFA AGUINDA INTI RUMI   \n",
       "\n",
       "   FECHA DE NACIMIENTO \\nDÍA-MES-AÑO TIENE CARNE \\nSI/NO TIPOD PORCENTAJE\\n%  \\\n",
       "47                        2012-08-22                  SI   NaN           NaN   \n",
       "\n",
       "   GRADO O CURSO\\n2023 2024  \n",
       "47                  6TO EGB  "
      ]
     },
     "execution_count": 15,
     "metadata": {},
     "output_type": "execute_result"
    }
   ],
   "source": [
    "\n",
    "df.loc[(df.loc[:, \"TIPOD\"].isnull()) ]"
   ]
  },
  {
   "cell_type": "markdown",
   "id": "49fdf0c4-d528-4196-8de5-9e7bf1ca7c90",
   "metadata": {},
   "source": [
    "Rellenamos el valor que mas se repite"
   ]
  },
  {
   "cell_type": "code",
   "execution_count": null,
   "id": "5d055add-1b0b-4089-93f7-16d70435f727",
   "metadata": {},
   "outputs": [],
   "source": [
    "df.dtypes\n",
    "\n"
   ]
  },
  {
   "cell_type": "code",
   "execution_count": 16,
   "id": "31e90904-235a-4f41-a9c5-51bc8c8486aa",
   "metadata": {},
   "outputs": [
    {
     "data": {
      "text/html": [
       "<div>\n",
       "<style scoped>\n",
       "    .dataframe tbody tr th:only-of-type {\n",
       "        vertical-align: middle;\n",
       "    }\n",
       "\n",
       "    .dataframe tbody tr th {\n",
       "        vertical-align: top;\n",
       "    }\n",
       "\n",
       "    .dataframe thead th {\n",
       "        text-align: right;\n",
       "    }\n",
       "</style>\n",
       "<table border=\"1\" class=\"dataframe\">\n",
       "  <thead>\n",
       "    <tr style=\"text-align: right;\">\n",
       "      <th></th>\n",
       "      <th>Institucion</th>\n",
       "      <th>CEDULA ESTUDIANTE</th>\n",
       "      <th>APELLIDOS Y NOMBRES</th>\n",
       "      <th>FECHA DE NACIMIENTO \\nDÍA-MES-AÑO</th>\n",
       "      <th>TIENE CARNE \\nSI/NO</th>\n",
       "      <th>TIPOD</th>\n",
       "      <th>PORCENTAJE\\n%</th>\n",
       "      <th>GRADO O CURSO\\n2023 2024</th>\n",
       "    </tr>\n",
       "  </thead>\n",
       "  <tbody>\n",
       "    <tr>\n",
       "      <th>47</th>\n",
       "      <td>MANUELA CAÑISARES MATRIZ</td>\n",
       "      <td>2.200661e+09</td>\n",
       "      <td>GREFA AGUINDA INTI RUMI</td>\n",
       "      <td>2012-08-22</td>\n",
       "      <td>SI</td>\n",
       "      <td>INTELECTUAL</td>\n",
       "      <td>NaN</td>\n",
       "      <td>6TO EGB</td>\n",
       "    </tr>\n",
       "  </tbody>\n",
       "</table>\n",
       "</div>"
      ],
      "text/plain": [
       "                 Institucion  CEDULA ESTUDIANTE       APELLIDOS Y NOMBRES  \\\n",
       "47  MANUELA CAÑISARES MATRIZ        2.200661e+09  GREFA AGUINDA INTI RUMI   \n",
       "\n",
       "   FECHA DE NACIMIENTO \\nDÍA-MES-AÑO TIENE CARNE \\nSI/NO        TIPOD  \\\n",
       "47                        2012-08-22                  SI  INTELECTUAL   \n",
       "\n",
       "   PORCENTAJE\\n% GRADO O CURSO\\n2023 2024  \n",
       "47           NaN                  6TO EGB  "
      ]
     },
     "execution_count": 16,
     "metadata": {},
     "output_type": "execute_result"
    }
   ],
   "source": [
    "#RELLENAR LOS VALORES NULOS CON EL VALOR Q MAS SE REPITE\n",
    "\n",
    "df['TIPOD'] = df['TIPOD'].fillna(df['TIPOD'].mode()[0])\n",
    "df.loc[(df.loc[:, \"APELLIDOS Y NOMBRES\"]=='GREFA AGUINDA INTI RUMI') ]"
   ]
  },
  {
   "cell_type": "code",
   "execution_count": 17,
   "id": "d1db2b88-75f4-4744-bc9b-9a2e64e5459e",
   "metadata": {},
   "outputs": [
    {
     "data": {
      "text/plain": [
       "Institucion                           0\n",
       "CEDULA ESTUDIANTE                    13\n",
       "APELLIDOS Y NOMBRES                   0\n",
       "FECHA DE NACIMIENTO \\nDÍA-MES-AÑO    32\n",
       "TIENE CARNE \\nSI/NO                  20\n",
       "TIPOD                                 0\n",
       "PORCENTAJE\\n%                        15\n",
       "GRADO O CURSO\\n2023 2024              3\n",
       "dtype: int64"
      ]
     },
     "execution_count": 17,
     "metadata": {},
     "output_type": "execute_result"
    }
   ],
   "source": [
    "df.isnull().sum()"
   ]
  },
  {
   "cell_type": "code",
   "execution_count": 18,
   "id": "db651377-c69a-4d91-8edd-aae72a84e61d",
   "metadata": {},
   "outputs": [
    {
     "data": {
      "text/html": [
       "<div>\n",
       "<style scoped>\n",
       "    .dataframe tbody tr th:only-of-type {\n",
       "        vertical-align: middle;\n",
       "    }\n",
       "\n",
       "    .dataframe tbody tr th {\n",
       "        vertical-align: top;\n",
       "    }\n",
       "\n",
       "    .dataframe thead th {\n",
       "        text-align: right;\n",
       "    }\n",
       "</style>\n",
       "<table border=\"1\" class=\"dataframe\">\n",
       "  <thead>\n",
       "    <tr style=\"text-align: right;\">\n",
       "      <th></th>\n",
       "      <th>Institucion</th>\n",
       "      <th>CEDULA ESTUDIANTE</th>\n",
       "      <th>APELLIDOS Y NOMBRES</th>\n",
       "      <th>FECHA DE NACIMIENTO \\nDÍA-MES-AÑO</th>\n",
       "      <th>TIENE CARNE \\nSI/NO</th>\n",
       "      <th>TIPOD</th>\n",
       "      <th>PORCENTAJE\\n%</th>\n",
       "      <th>GRADO O CURSO\\n2023 2024</th>\n",
       "    </tr>\n",
       "  </thead>\n",
       "  <tbody>\n",
       "    <tr>\n",
       "      <th>167</th>\n",
       "      <td>MATRIZ JORGE RODRIGEZ</td>\n",
       "      <td>2.250024e+09</td>\n",
       "      <td>ANDRADE GOMEZ ANAHI THAIS</td>\n",
       "      <td>NaT</td>\n",
       "      <td>NaN</td>\n",
       "      <td>AUDITIVA</td>\n",
       "      <td>0.31</td>\n",
       "      <td>3ERO BACHILLERATO</td>\n",
       "    </tr>\n",
       "    <tr>\n",
       "      <th>168</th>\n",
       "      <td>MATRIZ JORGE RODRIGEZ</td>\n",
       "      <td>2.101127e+09</td>\n",
       "      <td>RIERA TOCTAGUNO  ANGELICA KATHERINE</td>\n",
       "      <td>NaT</td>\n",
       "      <td>NaN</td>\n",
       "      <td>FISICA</td>\n",
       "      <td>0.44</td>\n",
       "      <td>2DO BACHILLERATO</td>\n",
       "    </tr>\n",
       "    <tr>\n",
       "      <th>169</th>\n",
       "      <td>MATRIZ JORGE RODRIGEZ</td>\n",
       "      <td>2.200496e+09</td>\n",
       "      <td>RAMIREZ ATACUSHI MARIA ISABEL</td>\n",
       "      <td>NaT</td>\n",
       "      <td>NaN</td>\n",
       "      <td>FISICA</td>\n",
       "      <td>0.82</td>\n",
       "      <td>2DO BACHILLERATO</td>\n",
       "    </tr>\n",
       "    <tr>\n",
       "      <th>170</th>\n",
       "      <td>MATRIZ JORGE RODRIGEZ</td>\n",
       "      <td>2.101127e+09</td>\n",
       "      <td>RIERA TOCTAGUNO  ANGELICA KATHERINE</td>\n",
       "      <td>NaT</td>\n",
       "      <td>NaN</td>\n",
       "      <td>INTELECTUAL</td>\n",
       "      <td>0.44</td>\n",
       "      <td>2DO BACHILLERATO</td>\n",
       "    </tr>\n",
       "    <tr>\n",
       "      <th>171</th>\n",
       "      <td>MATRIZ JORGE RODRIGEZ</td>\n",
       "      <td>2.200354e+09</td>\n",
       "      <td>QUEVEDO ORTIZ JARET ALEXANDER</td>\n",
       "      <td>NaT</td>\n",
       "      <td>NaN</td>\n",
       "      <td>INTELECTUAL</td>\n",
       "      <td>0.65</td>\n",
       "      <td>2DO BACHILLERATO</td>\n",
       "    </tr>\n",
       "    <tr>\n",
       "      <th>172</th>\n",
       "      <td>MATRIZ JORGE RODRIGEZ</td>\n",
       "      <td>2.101127e+09</td>\n",
       "      <td>RIERA TOCTAGUNO  ANGELICA KATHERINE</td>\n",
       "      <td>NaT</td>\n",
       "      <td>NaN</td>\n",
       "      <td>INTELECTUAL</td>\n",
       "      <td>0.44</td>\n",
       "      <td>2DO BACHILLERATO</td>\n",
       "    </tr>\n",
       "    <tr>\n",
       "      <th>173</th>\n",
       "      <td>MATRIZ JORGE RODRIGEZ</td>\n",
       "      <td>2.200215e+09</td>\n",
       "      <td>VITE TIXI JEFFERSON STEVEN</td>\n",
       "      <td>NaT</td>\n",
       "      <td>NaN</td>\n",
       "      <td>INTELECTUAL</td>\n",
       "      <td>0.35</td>\n",
       "      <td>3ERO BACHILLERATO</td>\n",
       "    </tr>\n",
       "    <tr>\n",
       "      <th>174</th>\n",
       "      <td>MATRIZ JORGE RODRIGEZ</td>\n",
       "      <td>2.101127e+09</td>\n",
       "      <td>RIERA TOCTAGUNO  ANGELICA KATHERINE</td>\n",
       "      <td>NaT</td>\n",
       "      <td>NaN</td>\n",
       "      <td>FISICA</td>\n",
       "      <td>0.44</td>\n",
       "      <td>3ERO BACHILLERATO</td>\n",
       "    </tr>\n",
       "    <tr>\n",
       "      <th>175</th>\n",
       "      <td>MATRIZ JORGE RODRIGEZ</td>\n",
       "      <td>2.250041e+09</td>\n",
       "      <td>GRANDEZ AGILERA JOSE FERNANDO</td>\n",
       "      <td>NaT</td>\n",
       "      <td>NaN</td>\n",
       "      <td>AUTISMO</td>\n",
       "      <td>NaN</td>\n",
       "      <td>9NO EGB</td>\n",
       "    </tr>\n",
       "    <tr>\n",
       "      <th>176</th>\n",
       "      <td>FRANCISCO ORELLANA</td>\n",
       "      <td>NaN</td>\n",
       "      <td>GERMY GIOMAR ORDOÑEZ BRAVO</td>\n",
       "      <td>NaT</td>\n",
       "      <td>NaN</td>\n",
       "      <td>INTELECTUAL</td>\n",
       "      <td>0.25</td>\n",
       "      <td>3ERO BACHILLERATO</td>\n",
       "    </tr>\n",
       "    <tr>\n",
       "      <th>177</th>\n",
       "      <td>FRANCISCO ORELLANA</td>\n",
       "      <td>NaN</td>\n",
       "      <td>ANDREA VIVIANA ANDRADE NAZARENO</td>\n",
       "      <td>NaT</td>\n",
       "      <td>NaN</td>\n",
       "      <td>INTELECTUAL</td>\n",
       "      <td>0.35</td>\n",
       "      <td>3ERO BACHILLERATO</td>\n",
       "    </tr>\n",
       "    <tr>\n",
       "      <th>178</th>\n",
       "      <td>CIUDAD DE COCA</td>\n",
       "      <td>NaN</td>\n",
       "      <td>LUNA SILVA BRIGITTE VIRGINIA</td>\n",
       "      <td>NaT</td>\n",
       "      <td>NaN</td>\n",
       "      <td>FISICA</td>\n",
       "      <td>0.59</td>\n",
       "      <td>4TO EGB</td>\n",
       "    </tr>\n",
       "    <tr>\n",
       "      <th>179</th>\n",
       "      <td>CIUDAD DE COCA</td>\n",
       "      <td>2.250181e+09</td>\n",
       "      <td>CASTILLO ALVAREZ LISETH HERLINDA</td>\n",
       "      <td>2014-12-12</td>\n",
       "      <td>NaN</td>\n",
       "      <td>AUDITIVA</td>\n",
       "      <td>NaN</td>\n",
       "      <td>6TO EGB</td>\n",
       "    </tr>\n",
       "    <tr>\n",
       "      <th>180</th>\n",
       "      <td>CIUDAD DE COCA</td>\n",
       "      <td>2.250056e+09</td>\n",
       "      <td>GONZAGA ALDAZ IKER SAMUEL</td>\n",
       "      <td>2012-12-12</td>\n",
       "      <td>NaN</td>\n",
       "      <td>PSICOSOCIAL</td>\n",
       "      <td>0.45</td>\n",
       "      <td>8VO EGB</td>\n",
       "    </tr>\n",
       "    <tr>\n",
       "      <th>181</th>\n",
       "      <td>CIUDAD DE COCA</td>\n",
       "      <td>2.250192e+09</td>\n",
       "      <td>LOPEZ ILLANEZ DERIAN JORDAN</td>\n",
       "      <td>2010-12-12</td>\n",
       "      <td>NaN</td>\n",
       "      <td>INTELECTUAL</td>\n",
       "      <td>0.49</td>\n",
       "      <td>9NO EGB</td>\n",
       "    </tr>\n",
       "    <tr>\n",
       "      <th>182</th>\n",
       "      <td>CIUDAD DE COCA</td>\n",
       "      <td>2.150040e+09</td>\n",
       "      <td>REQUELME CARDENAS JULEY ANAHI</td>\n",
       "      <td>2010-12-12</td>\n",
       "      <td>NaN</td>\n",
       "      <td>INTELECTUAL</td>\n",
       "      <td>0.35</td>\n",
       "      <td>10MO EGB</td>\n",
       "    </tr>\n",
       "    <tr>\n",
       "      <th>183</th>\n",
       "      <td>CIUDAD DE COCA</td>\n",
       "      <td>2.200485e+08</td>\n",
       "      <td>EUGENIO CAMPOVERDE SAMY IVANOVA</td>\n",
       "      <td>2006-12-12</td>\n",
       "      <td>NaN</td>\n",
       "      <td>INTELECTUAL</td>\n",
       "      <td>0.45</td>\n",
       "      <td>3ERO BACHILLERATO</td>\n",
       "    </tr>\n",
       "    <tr>\n",
       "      <th>184</th>\n",
       "      <td>CIUDAD DE COCA</td>\n",
       "      <td>2.200337e+09</td>\n",
       "      <td>ZAMBRANO DIGUA NARCISA CECIBEL</td>\n",
       "      <td>2007-12-12</td>\n",
       "      <td>NaN</td>\n",
       "      <td>VISUAL</td>\n",
       "      <td>0.58</td>\n",
       "      <td>2DO EGB</td>\n",
       "    </tr>\n",
       "    <tr>\n",
       "      <th>185</th>\n",
       "      <td>CIUDAD DE COCA</td>\n",
       "      <td>2.200631e+09</td>\n",
       "      <td>OCHOA NOA KAREN GIRETH</td>\n",
       "      <td>2009-12-12</td>\n",
       "      <td>NaN</td>\n",
       "      <td>FISICA</td>\n",
       "      <td>0.3</td>\n",
       "      <td>1ERO BACHILLERATO</td>\n",
       "    </tr>\n",
       "    <tr>\n",
       "      <th>186</th>\n",
       "      <td>CIUDAD DE COCA</td>\n",
       "      <td>1.752047e+09</td>\n",
       "      <td>JARAMILLO SANTANA ADRIANA ARACELY</td>\n",
       "      <td>2009-12-12</td>\n",
       "      <td>NaN</td>\n",
       "      <td>FISICA</td>\n",
       "      <td>0.46</td>\n",
       "      <td>2DO EGB</td>\n",
       "    </tr>\n",
       "  </tbody>\n",
       "</table>\n",
       "</div>"
      ],
      "text/plain": [
       "               Institucion  CEDULA ESTUDIANTE   \\\n",
       "167  MATRIZ JORGE RODRIGEZ        2.250024e+09   \n",
       "168  MATRIZ JORGE RODRIGEZ        2.101127e+09   \n",
       "169  MATRIZ JORGE RODRIGEZ        2.200496e+09   \n",
       "170  MATRIZ JORGE RODRIGEZ        2.101127e+09   \n",
       "171  MATRIZ JORGE RODRIGEZ        2.200354e+09   \n",
       "172  MATRIZ JORGE RODRIGEZ        2.101127e+09   \n",
       "173  MATRIZ JORGE RODRIGEZ        2.200215e+09   \n",
       "174  MATRIZ JORGE RODRIGEZ        2.101127e+09   \n",
       "175  MATRIZ JORGE RODRIGEZ        2.250041e+09   \n",
       "176     FRANCISCO ORELLANA                 NaN   \n",
       "177     FRANCISCO ORELLANA                 NaN   \n",
       "178         CIUDAD DE COCA                 NaN   \n",
       "179         CIUDAD DE COCA        2.250181e+09   \n",
       "180         CIUDAD DE COCA        2.250056e+09   \n",
       "181         CIUDAD DE COCA        2.250192e+09   \n",
       "182         CIUDAD DE COCA        2.150040e+09   \n",
       "183         CIUDAD DE COCA        2.200485e+08   \n",
       "184         CIUDAD DE COCA        2.200337e+09   \n",
       "185         CIUDAD DE COCA        2.200631e+09   \n",
       "186         CIUDAD DE COCA        1.752047e+09   \n",
       "\n",
       "                     APELLIDOS Y NOMBRES FECHA DE NACIMIENTO \\nDÍA-MES-AÑO  \\\n",
       "167            ANDRADE GOMEZ ANAHI THAIS                               NaT   \n",
       "168  RIERA TOCTAGUNO  ANGELICA KATHERINE                               NaT   \n",
       "169        RAMIREZ ATACUSHI MARIA ISABEL                               NaT   \n",
       "170  RIERA TOCTAGUNO  ANGELICA KATHERINE                               NaT   \n",
       "171        QUEVEDO ORTIZ JARET ALEXANDER                               NaT   \n",
       "172  RIERA TOCTAGUNO  ANGELICA KATHERINE                               NaT   \n",
       "173           VITE TIXI JEFFERSON STEVEN                               NaT   \n",
       "174  RIERA TOCTAGUNO  ANGELICA KATHERINE                               NaT   \n",
       "175        GRANDEZ AGILERA JOSE FERNANDO                               NaT   \n",
       "176           GERMY GIOMAR ORDOÑEZ BRAVO                               NaT   \n",
       "177      ANDREA VIVIANA ANDRADE NAZARENO                               NaT   \n",
       "178         LUNA SILVA BRIGITTE VIRGINIA                               NaT   \n",
       "179     CASTILLO ALVAREZ LISETH HERLINDA                        2014-12-12   \n",
       "180            GONZAGA ALDAZ IKER SAMUEL                        2012-12-12   \n",
       "181          LOPEZ ILLANEZ DERIAN JORDAN                        2010-12-12   \n",
       "182        REQUELME CARDENAS JULEY ANAHI                        2010-12-12   \n",
       "183      EUGENIO CAMPOVERDE SAMY IVANOVA                        2006-12-12   \n",
       "184       ZAMBRANO DIGUA NARCISA CECIBEL                        2007-12-12   \n",
       "185               OCHOA NOA KAREN GIRETH                        2009-12-12   \n",
       "186    JARAMILLO SANTANA ADRIANA ARACELY                        2009-12-12   \n",
       "\n",
       "    TIENE CARNE \\nSI/NO        TIPOD PORCENTAJE\\n% GRADO O CURSO\\n2023 2024  \n",
       "167                 NaN     AUDITIVA          0.31        3ERO BACHILLERATO  \n",
       "168                 NaN       FISICA          0.44         2DO BACHILLERATO  \n",
       "169                 NaN       FISICA          0.82         2DO BACHILLERATO  \n",
       "170                 NaN  INTELECTUAL          0.44         2DO BACHILLERATO  \n",
       "171                 NaN  INTELECTUAL          0.65         2DO BACHILLERATO  \n",
       "172                 NaN  INTELECTUAL          0.44         2DO BACHILLERATO  \n",
       "173                 NaN  INTELECTUAL          0.35        3ERO BACHILLERATO  \n",
       "174                 NaN       FISICA          0.44        3ERO BACHILLERATO  \n",
       "175                 NaN      AUTISMO           NaN                  9NO EGB  \n",
       "176                 NaN  INTELECTUAL          0.25        3ERO BACHILLERATO  \n",
       "177                 NaN  INTELECTUAL          0.35        3ERO BACHILLERATO  \n",
       "178                 NaN       FISICA          0.59                  4TO EGB  \n",
       "179                 NaN     AUDITIVA           NaN                  6TO EGB  \n",
       "180                 NaN  PSICOSOCIAL          0.45                  8VO EGB  \n",
       "181                 NaN  INTELECTUAL          0.49                  9NO EGB  \n",
       "182                 NaN  INTELECTUAL          0.35                 10MO EGB  \n",
       "183                 NaN  INTELECTUAL          0.45        3ERO BACHILLERATO  \n",
       "184                 NaN       VISUAL          0.58                  2DO EGB  \n",
       "185                 NaN       FISICA           0.3        1ERO BACHILLERATO  \n",
       "186                 NaN       FISICA          0.46                  2DO EGB  "
      ]
     },
     "execution_count": 18,
     "metadata": {},
     "output_type": "execute_result"
    }
   ],
   "source": [
    "df.loc[(df.loc[:, \"TIENE CARNE \\nSI/NO\"].isnull())]"
   ]
  },
  {
   "cell_type": "markdown",
   "id": "d7209347-89d8-42cc-895e-a9a081104a73",
   "metadata": {},
   "source": [
    "### Nulos: TIENE CARNE \\nSI/NO"
   ]
  },
  {
   "cell_type": "markdown",
   "id": "ec4651c2-cd1b-4b96-bd18-6625f49cdda5",
   "metadata": {},
   "source": [
    "Se llena en funcion del tipo de discapacidad. Tiene discapacidad entonces tiene carnet."
   ]
  },
  {
   "cell_type": "code",
   "execution_count": 21,
   "id": "b06fc3bc-0eac-4259-a564-39eae29030e8",
   "metadata": {},
   "outputs": [],
   "source": [
    "df[\"TIENE CARNE \\nSI/NO\"] = np.where(df[\"TIPOD\"]!='NINGUNA', 'SI',df[\"TIENE CARNE \\nSI/NO\"])"
   ]
  },
  {
   "cell_type": "code",
   "execution_count": 22,
   "id": "605cfc0c-f79e-4999-95c6-eb312c7f27fd",
   "metadata": {},
   "outputs": [
    {
     "data": {
      "text/plain": [
       "Institucion                           0\n",
       "CEDULA ESTUDIANTE                    13\n",
       "APELLIDOS Y NOMBRES                   0\n",
       "FECHA DE NACIMIENTO \\nDÍA-MES-AÑO    32\n",
       "TIENE CARNE \\nSI/NO                   0\n",
       "TIPOD                                 0\n",
       "PORCENTAJE\\n%                        15\n",
       "GRADO O CURSO\\n2023 2024              3\n",
       "dtype: int64"
      ]
     },
     "execution_count": 22,
     "metadata": {},
     "output_type": "execute_result"
    }
   ],
   "source": [
    "df.isnull().sum()"
   ]
  },
  {
   "cell_type": "markdown",
   "id": "3f63a3e5-2ea1-4600-b4c9-5f0bf6a101a9",
   "metadata": {},
   "source": [
    "### Nulos: PORCENTAJE\\n%"
   ]
  },
  {
   "cell_type": "markdown",
   "id": "d0c827a2-1106-4811-8a87-3b2c6b6f6ba5",
   "metadata": {},
   "source": [
    "Se rellena en funcion de tipo de discapacida: Ninguna discapacidad entonce porcentaje 0"
   ]
  },
  {
   "cell_type": "code",
   "execution_count": 31,
   "id": "d11b964e-fba2-463d-b7f8-9c0d2d16431c",
   "metadata": {},
   "outputs": [
    {
     "data": {
      "text/html": [
       "<div>\n",
       "<style scoped>\n",
       "    .dataframe tbody tr th:only-of-type {\n",
       "        vertical-align: middle;\n",
       "    }\n",
       "\n",
       "    .dataframe tbody tr th {\n",
       "        vertical-align: top;\n",
       "    }\n",
       "\n",
       "    .dataframe thead th {\n",
       "        text-align: right;\n",
       "    }\n",
       "</style>\n",
       "<table border=\"1\" class=\"dataframe\">\n",
       "  <thead>\n",
       "    <tr style=\"text-align: right;\">\n",
       "      <th></th>\n",
       "      <th>Institucion</th>\n",
       "      <th>CEDULA ESTUDIANTE</th>\n",
       "      <th>APELLIDOS Y NOMBRES</th>\n",
       "      <th>FECHA DE NACIMIENTO \\nDÍA-MES-AÑO</th>\n",
       "      <th>TIENE CARNE \\nSI/NO</th>\n",
       "      <th>TIPOD</th>\n",
       "      <th>PORCENTAJE\\n%</th>\n",
       "      <th>GRADO O CURSO\\n2023 2024</th>\n",
       "    </tr>\n",
       "  </thead>\n",
       "  <tbody>\n",
       "    <tr>\n",
       "      <th>47</th>\n",
       "      <td>MANUELA CAÑISARES MATRIZ</td>\n",
       "      <td>2.200661e+09</td>\n",
       "      <td>GREFA AGUINDA INTI RUMI</td>\n",
       "      <td>2012-08-22</td>\n",
       "      <td>SI</td>\n",
       "      <td>INTELECTUAL</td>\n",
       "      <td>NaN</td>\n",
       "      <td>6TO EGB</td>\n",
       "    </tr>\n",
       "    <tr>\n",
       "      <th>115</th>\n",
       "      <td>MANUELA CAÑISARES MATRIZ</td>\n",
       "      <td>1.789576e+07</td>\n",
       "      <td>FORNEZ QUINTERO ANGEL GABRIEL</td>\n",
       "      <td>2007-05-30</td>\n",
       "      <td>SI</td>\n",
       "      <td>INTELECTUAL</td>\n",
       "      <td>NaN</td>\n",
       "      <td>1ERO BACHILLERATO</td>\n",
       "    </tr>\n",
       "    <tr>\n",
       "      <th>147</th>\n",
       "      <td>PRESIDENTE TAMAYO</td>\n",
       "      <td>2.351623e+09</td>\n",
       "      <td>ALLAUCA CAMPOS SOFIA PRISCILA</td>\n",
       "      <td>2018-06-23</td>\n",
       "      <td>SI</td>\n",
       "      <td>PSICOSOCIAL</td>\n",
       "      <td>NaN</td>\n",
       "      <td>1ERO EGB</td>\n",
       "    </tr>\n",
       "    <tr>\n",
       "      <th>148</th>\n",
       "      <td>PRESIDENTE TAMAYO</td>\n",
       "      <td>2.250514e+09</td>\n",
       "      <td>GUZMAN AGUINDA TONY JOSHUE</td>\n",
       "      <td>2018-12-15</td>\n",
       "      <td>SI</td>\n",
       "      <td>PSICOSOCIAL</td>\n",
       "      <td>NaN</td>\n",
       "      <td>1ERO EGB</td>\n",
       "    </tr>\n",
       "    <tr>\n",
       "      <th>149</th>\n",
       "      <td>PRESIDENTE TAMAYO</td>\n",
       "      <td>2.250334e+09</td>\n",
       "      <td>CEPEDA AGUALONGO ABIEL JHOSUA</td>\n",
       "      <td>2013-08-19</td>\n",
       "      <td>SI</td>\n",
       "      <td>PSICOSOCIAL</td>\n",
       "      <td>NaN</td>\n",
       "      <td>4TO EGB</td>\n",
       "    </tr>\n",
       "    <tr>\n",
       "      <th>150</th>\n",
       "      <td>PRESIDENTE TAMAYO</td>\n",
       "      <td>2.250237e+09</td>\n",
       "      <td>FARFAN MECIAS DYLAN RICARDO</td>\n",
       "      <td>2013-11-14</td>\n",
       "      <td>SI</td>\n",
       "      <td>PSICOSOCIAL</td>\n",
       "      <td>NaN</td>\n",
       "      <td>6TO EGB</td>\n",
       "    </tr>\n",
       "    <tr>\n",
       "      <th>151</th>\n",
       "      <td>PRESIDENTE TAMAYO</td>\n",
       "      <td>2.250234e+09</td>\n",
       "      <td>TACURI SOPLIN YADHIEL ALESSANDRO</td>\n",
       "      <td>2013-11-08</td>\n",
       "      <td>SI</td>\n",
       "      <td>PSICOSOCIAL</td>\n",
       "      <td>NaN</td>\n",
       "      <td>6TO EGB</td>\n",
       "    </tr>\n",
       "    <tr>\n",
       "      <th>152</th>\n",
       "      <td>PRESIDENTE TAMAYO</td>\n",
       "      <td>1.850989e+09</td>\n",
       "      <td>PALATE LIGÑA JOSE FERNANDO</td>\n",
       "      <td>2014-06-11</td>\n",
       "      <td>SI</td>\n",
       "      <td>VISUAL</td>\n",
       "      <td>NaN</td>\n",
       "      <td>5TO EGB</td>\n",
       "    </tr>\n",
       "    <tr>\n",
       "      <th>153</th>\n",
       "      <td>PRESIDENTE TAMAYO</td>\n",
       "      <td>1.756236e+09</td>\n",
       "      <td>JUNGAL DIAZ MAHU ARIANA</td>\n",
       "      <td>2008-10-19</td>\n",
       "      <td>SI</td>\n",
       "      <td>VISUAL</td>\n",
       "      <td>NaN</td>\n",
       "      <td>10MO EGB</td>\n",
       "    </tr>\n",
       "    <tr>\n",
       "      <th>175</th>\n",
       "      <td>MATRIZ JORGE RODRIGEZ</td>\n",
       "      <td>2.250041e+09</td>\n",
       "      <td>GRANDEZ AGILERA JOSE FERNANDO</td>\n",
       "      <td>NaT</td>\n",
       "      <td>SI</td>\n",
       "      <td>AUTISMO</td>\n",
       "      <td>NaN</td>\n",
       "      <td>9NO EGB</td>\n",
       "    </tr>\n",
       "    <tr>\n",
       "      <th>179</th>\n",
       "      <td>CIUDAD DE COCA</td>\n",
       "      <td>2.250181e+09</td>\n",
       "      <td>CASTILLO ALVAREZ LISETH HERLINDA</td>\n",
       "      <td>2014-12-12</td>\n",
       "      <td>SI</td>\n",
       "      <td>AUDITIVA</td>\n",
       "      <td>NaN</td>\n",
       "      <td>6TO EGB</td>\n",
       "    </tr>\n",
       "  </tbody>\n",
       "</table>\n",
       "</div>"
      ],
      "text/plain": [
       "                  Institucion  CEDULA ESTUDIANTE   \\\n",
       "47   MANUELA CAÑISARES MATRIZ        2.200661e+09   \n",
       "115  MANUELA CAÑISARES MATRIZ        1.789576e+07   \n",
       "147        PRESIDENTE TAMAYO         2.351623e+09   \n",
       "148        PRESIDENTE TAMAYO         2.250514e+09   \n",
       "149        PRESIDENTE TAMAYO         2.250334e+09   \n",
       "150        PRESIDENTE TAMAYO         2.250237e+09   \n",
       "151        PRESIDENTE TAMAYO         2.250234e+09   \n",
       "152        PRESIDENTE TAMAYO         1.850989e+09   \n",
       "153        PRESIDENTE TAMAYO         1.756236e+09   \n",
       "175     MATRIZ JORGE RODRIGEZ        2.250041e+09   \n",
       "179            CIUDAD DE COCA        2.250181e+09   \n",
       "\n",
       "                  APELLIDOS Y NOMBRES FECHA DE NACIMIENTO \\nDÍA-MES-AÑO  \\\n",
       "47            GREFA AGUINDA INTI RUMI                        2012-08-22   \n",
       "115     FORNEZ QUINTERO ANGEL GABRIEL                        2007-05-30   \n",
       "147     ALLAUCA CAMPOS SOFIA PRISCILA                        2018-06-23   \n",
       "148        GUZMAN AGUINDA TONY JOSHUE                        2018-12-15   \n",
       "149     CEPEDA AGUALONGO ABIEL JHOSUA                        2013-08-19   \n",
       "150       FARFAN MECIAS DYLAN RICARDO                        2013-11-14   \n",
       "151  TACURI SOPLIN YADHIEL ALESSANDRO                        2013-11-08   \n",
       "152        PALATE LIGÑA JOSE FERNANDO                        2014-06-11   \n",
       "153           JUNGAL DIAZ MAHU ARIANA                        2008-10-19   \n",
       "175     GRANDEZ AGILERA JOSE FERNANDO                               NaT   \n",
       "179  CASTILLO ALVAREZ LISETH HERLINDA                        2014-12-12   \n",
       "\n",
       "    TIENE CARNE \\nSI/NO        TIPOD PORCENTAJE\\n% GRADO O CURSO\\n2023 2024  \n",
       "47                   SI  INTELECTUAL           NaN                  6TO EGB  \n",
       "115                  SI  INTELECTUAL           NaN        1ERO BACHILLERATO  \n",
       "147                  SI  PSICOSOCIAL           NaN                 1ERO EGB  \n",
       "148                  SI  PSICOSOCIAL           NaN                 1ERO EGB  \n",
       "149                  SI  PSICOSOCIAL           NaN                  4TO EGB  \n",
       "150                  SI  PSICOSOCIAL           NaN                  6TO EGB  \n",
       "151                  SI  PSICOSOCIAL           NaN                  6TO EGB  \n",
       "152                  SI       VISUAL           NaN                  5TO EGB  \n",
       "153                  SI       VISUAL           NaN                 10MO EGB  \n",
       "175                  SI      AUTISMO           NaN                  9NO EGB  \n",
       "179                  SI     AUDITIVA           NaN                  6TO EGB  "
      ]
     },
     "execution_count": 31,
     "metadata": {},
     "output_type": "execute_result"
    }
   ],
   "source": [
    "df.loc[(df.loc[:, \"PORCENTAJE\\n%\"].isnull())]"
   ]
  },
  {
   "cell_type": "code",
   "execution_count": 26,
   "id": "47747772-f9e0-44c1-9e9e-0ae01a5c317b",
   "metadata": {},
   "outputs": [],
   "source": [
    "df[\"PORCENTAJE\\n%\"] = np.where(df[\"TIPOD\"]=='NINGUNA', 0,df[\"PORCENTAJE\\n%\"])"
   ]
  },
  {
   "cell_type": "code",
   "execution_count": 28,
   "id": "63645a42-a9c0-4805-af61-931be9c27ef1",
   "metadata": {},
   "outputs": [
    {
     "data": {
      "text/plain": [
       "array([0.36, 0, 0.85, 0.84, 0.37, 0.77, 0.75, 0.79, 0.71, 0.88, 0.52,\n",
       "       0.53, 0.5, 0.4, 0.76, 0.44, 0.8, 0.38, 0.41, 0.82, 0.46, 0.73, nan,\n",
       "       0.9, 0.66, 0.91, 0.57, 0.49, 0.56, 0.32, 0.78, 0.67, 0.55, 0.45,\n",
       "       0.7, 0.3, 0.58, 0.43, 0.63, 0.48, 0.6, 0.72, 0.86, 0.68, 0.95,\n",
       "       0.65, 0.89, 0.42, 'S/N', 0.62, 0.54, 0.61, 0.33, 0.35, 0.81, 0.31,\n",
       "       0.25, 0.59], dtype=object)"
      ]
     },
     "execution_count": 28,
     "metadata": {},
     "output_type": "execute_result"
    }
   ],
   "source": [
    "df['PORCENTAJE\\n%'].unique()"
   ]
  },
  {
   "cell_type": "code",
   "execution_count": 29,
   "id": "060622ac-76b7-4803-b5bf-735ccb367bd6",
   "metadata": {},
   "outputs": [
    {
     "data": {
      "text/html": [
       "<div>\n",
       "<style scoped>\n",
       "    .dataframe tbody tr th:only-of-type {\n",
       "        vertical-align: middle;\n",
       "    }\n",
       "\n",
       "    .dataframe tbody tr th {\n",
       "        vertical-align: top;\n",
       "    }\n",
       "\n",
       "    .dataframe thead th {\n",
       "        text-align: right;\n",
       "    }\n",
       "</style>\n",
       "<table border=\"1\" class=\"dataframe\">\n",
       "  <thead>\n",
       "    <tr style=\"text-align: right;\">\n",
       "      <th></th>\n",
       "      <th>Institucion</th>\n",
       "      <th>CEDULA ESTUDIANTE</th>\n",
       "      <th>APELLIDOS Y NOMBRES</th>\n",
       "      <th>FECHA DE NACIMIENTO \\nDÍA-MES-AÑO</th>\n",
       "      <th>TIENE CARNE \\nSI/NO</th>\n",
       "      <th>TIPOD</th>\n",
       "      <th>PORCENTAJE\\n%</th>\n",
       "      <th>GRADO O CURSO\\n2023 2024</th>\n",
       "    </tr>\n",
       "  </thead>\n",
       "  <tbody>\n",
       "    <tr>\n",
       "      <th>115</th>\n",
       "      <td>MANUELA CAÑISARES MATRIZ</td>\n",
       "      <td>17895756.0</td>\n",
       "      <td>FORNEZ QUINTERO ANGEL GABRIEL</td>\n",
       "      <td>2007-05-30</td>\n",
       "      <td>SI</td>\n",
       "      <td>INTELECTUAL</td>\n",
       "      <td>S/N</td>\n",
       "      <td>1ERO BACHILLERATO</td>\n",
       "    </tr>\n",
       "  </tbody>\n",
       "</table>\n",
       "</div>"
      ],
      "text/plain": [
       "                  Institucion  CEDULA ESTUDIANTE   \\\n",
       "115  MANUELA CAÑISARES MATRIZ          17895756.0   \n",
       "\n",
       "               APELLIDOS Y NOMBRES FECHA DE NACIMIENTO \\nDÍA-MES-AÑO  \\\n",
       "115  FORNEZ QUINTERO ANGEL GABRIEL                        2007-05-30   \n",
       "\n",
       "    TIENE CARNE \\nSI/NO        TIPOD PORCENTAJE\\n% GRADO O CURSO\\n2023 2024  \n",
       "115                  SI  INTELECTUAL           S/N        1ERO BACHILLERATO  "
      ]
     },
     "execution_count": 29,
     "metadata": {},
     "output_type": "execute_result"
    }
   ],
   "source": [
    "# se localiza un caratecterar no comun\n",
    "df.loc[(df.loc[:, \"PORCENTAJE\\n%\"]=='S/N')]"
   ]
  },
  {
   "cell_type": "code",
   "execution_count": 30,
   "id": "9c3234af-9530-4c04-a5a8-6c25bfb3c20d",
   "metadata": {},
   "outputs": [],
   "source": [
    "#cambaimos el S/N por NaN para rellenar la columan con el promedio\n",
    "df[\"PORCENTAJE\\n%\"] = np.where(df[\"PORCENTAJE\\n%\"]=='S/N', np.nan ,df[\"PORCENTAJE\\n%\"])"
   ]
  },
  {
   "cell_type": "code",
   "execution_count": 32,
   "id": "e49a10b8-4123-4180-99ef-e6f2c7f9d79a",
   "metadata": {},
   "outputs": [],
   "source": [
    "# convertimos la variable porcentaje en nuemrico\n",
    "df[\"PORCENTAJE\\n%\"] = pd.to_numeric(df[\"PORCENTAJE\\n%\"])\n"
   ]
  },
  {
   "cell_type": "code",
   "execution_count": 33,
   "id": "e5bca4ee-723c-4ef8-8b4f-4ab88b1122d3",
   "metadata": {},
   "outputs": [
    {
     "data": {
      "text/plain": [
       "Institucion                           0\n",
       "CEDULA ESTUDIANTE                    13\n",
       "APELLIDOS Y NOMBRES                   0\n",
       "FECHA DE NACIMIENTO \\nDÍA-MES-AÑO    32\n",
       "TIENE CARNE \\nSI/NO                   0\n",
       "TIPOD                                 0\n",
       "PORCENTAJE\\n%                        11\n",
       "GRADO O CURSO\\n2023 2024              3\n",
       "dtype: int64"
      ]
     },
     "execution_count": 33,
     "metadata": {},
     "output_type": "execute_result"
    }
   ],
   "source": [
    "\n",
    "df.isnull().sum()\n"
   ]
  },
  {
   "cell_type": "code",
   "execution_count": 34,
   "id": "252ae592-5434-4fa2-bbff-5fbb00a1c41e",
   "metadata": {},
   "outputs": [],
   "source": [
    "cursos=df['TIPOD'].unique()"
   ]
  },
  {
   "cell_type": "code",
   "execution_count": 36,
   "id": "4229b924-8cf0-4b42-bc05-f5552ebc2b08",
   "metadata": {},
   "outputs": [],
   "source": [
    "#rellenamos el nulo con el promedio\n",
    "# la funcion crea un filtro para cada conjunto de cursos en donde se tenga alguna discapacidad\n",
    "for i in cursos:\n",
    "    # Filtrar el DataFrame para para cada curso \n",
    "    mask = df[\"TIPOD\"] == i\n",
    " # Calcular la media de las fechas disponibles para para el curso\n",
    "    if df.loc[mask, 'PORCENTAJE\\n%'].isna().all():\n",
    "        continue  # Saltar si todas las entradas son NaN\n",
    "    mean_date = df.loc[mask, 'PORCENTAJE\\n%'].mean()\n",
    "    #print(i)\n",
    "    #print(mean_date)\n",
    "    \n",
    "    df.loc[mask, 'PORCENTAJE\\n%'] = df.loc[mask, 'PORCENTAJE\\n%'].fillna(mean_date) \n",
    "\n",
    "\n",
    "\n",
    "#df['PORCENTAJE\\n%'] = df['PORCENTAJE\\n%'].fillna(df['PORCENTAJE\\n%'].mean())\n",
    "\n",
    "#df.isnull().sum()\n",
    "\n"
   ]
  },
  {
   "cell_type": "code",
   "execution_count": 44,
   "id": "a86ee21c-6be6-48c5-a355-fcea5f71cb4c",
   "metadata": {},
   "outputs": [
    {
     "data": {
      "text/plain": [
       "Institucion                           0\n",
       "CEDULA ESTUDIANTE                    13\n",
       "APELLIDOS Y NOMBRES                   0\n",
       "FECHA DE NACIMIENTO \\nDÍA-MES-AÑO    31\n",
       "TIENE CARNE \\nSI/NO                   0\n",
       "TIPOD                                 0\n",
       "PORCENTAJE\\n%                         0\n",
       "GRADO O CURSO\\n2023 2024              3\n",
       "dtype: int64"
      ]
     },
     "execution_count": 44,
     "metadata": {},
     "output_type": "execute_result"
    }
   ],
   "source": [
    "df.isnull().sum()"
   ]
  },
  {
   "cell_type": "code",
   "execution_count": 43,
   "id": "4025454f-4616-4383-b81e-6ddec33026c3",
   "metadata": {},
   "outputs": [
    {
     "data": {
      "text/html": [
       "<div>\n",
       "<style scoped>\n",
       "    .dataframe tbody tr th:only-of-type {\n",
       "        vertical-align: middle;\n",
       "    }\n",
       "\n",
       "    .dataframe tbody tr th {\n",
       "        vertical-align: top;\n",
       "    }\n",
       "\n",
       "    .dataframe thead th {\n",
       "        text-align: right;\n",
       "    }\n",
       "</style>\n",
       "<table border=\"1\" class=\"dataframe\">\n",
       "  <thead>\n",
       "    <tr style=\"text-align: right;\">\n",
       "      <th></th>\n",
       "      <th>Institucion</th>\n",
       "      <th>CEDULA ESTUDIANTE</th>\n",
       "      <th>APELLIDOS Y NOMBRES</th>\n",
       "      <th>FECHA DE NACIMIENTO \\nDÍA-MES-AÑO</th>\n",
       "      <th>TIENE CARNE \\nSI/NO</th>\n",
       "      <th>TIPOD</th>\n",
       "      <th>PORCENTAJE\\n%</th>\n",
       "      <th>GRADO O CURSO\\n2023 2024</th>\n",
       "    </tr>\n",
       "  </thead>\n",
       "  <tbody>\n",
       "  </tbody>\n",
       "</table>\n",
       "</div>"
      ],
      "text/plain": [
       "Empty DataFrame\n",
       "Columns: [Institucion, CEDULA ESTUDIANTE , APELLIDOS Y NOMBRES, FECHA DE NACIMIENTO \n",
       "DÍA-MES-AÑO, TIENE CARNE \n",
       "SI/NO, TIPOD, PORCENTAJE\n",
       "%, GRADO O CURSO\n",
       "2023 2024]\n",
       "Index: []"
      ]
     },
     "execution_count": 43,
     "metadata": {},
     "output_type": "execute_result"
    }
   ],
   "source": [
    "df.loc[(df.loc[:, \"PORCENTAJE\\n%\"].isnull())]"
   ]
  },
  {
   "cell_type": "code",
   "execution_count": 42,
   "id": "1e14bbc0-c31e-44ab-bbf9-999778865a99",
   "metadata": {},
   "outputs": [],
   "source": [
    "df = df.dropna(subset=['PORCENTAJE\\n%'])"
   ]
  },
  {
   "cell_type": "markdown",
   "id": "8f2b69f5-a049-4bca-afa6-0f96f9421398",
   "metadata": {},
   "source": [
    "### Nulos: GRADO O CURSO\\n2023 2024"
   ]
  },
  {
   "cell_type": "code",
   "execution_count": null,
   "id": "0178b8bf-55eb-4d78-9d4d-c4f2d1fd4240",
   "metadata": {},
   "outputs": [],
   "source": [
    "df.loc[(df.loc[:, \"GRADO O CURSO\\n2023 2024\"].isnull())]"
   ]
  },
  {
   "cell_type": "code",
   "execution_count": null,
   "id": "9e051389-bed6-45e0-ab9a-8f7816f6ca7d",
   "metadata": {},
   "outputs": [],
   "source": [
    "# validamoos cuantos cursos existem\n",
    "\n",
    "cursos=df['GRADO O CURSO\\n2023 2024'].unique()\n",
    "cursos"
   ]
  },
  {
   "cell_type": "code",
   "execution_count": null,
   "id": "96c15a3a-7d04-4b2c-a55e-62737f44538e",
   "metadata": {},
   "outputs": [],
   "source": [
    "# Contar cuántas filas tienen NaN  \n",
    "num_nan = df['GRADO O CURSO\\n2023 2024'].isnull().sum() \n",
    "# Generar valores aleatorios para las filas con NaN en 'Random_Category' \n",
    "np.random.seed(42)\n",
    "random_choices = np.random.choice(cursos, num_nan, replace=True) \n",
    "# Asignar los valores aleatorios a las filas correspondientes \n",
    "random_choices"
   ]
  },
  {
   "cell_type": "code",
   "execution_count": null,
   "id": "51a90761-479b-4aa6-87c4-386387284331",
   "metadata": {},
   "outputs": [],
   "source": [
    "df.loc[df['GRADO O CURSO\\n2023 2024'].isnull(), 'GRADO O CURSO\\n2023 2024'] = random_choices"
   ]
  },
  {
   "cell_type": "code",
   "execution_count": null,
   "id": "7541e6cf-b6e1-45b5-b1bb-da2d105a4ec4",
   "metadata": {},
   "outputs": [],
   "source": [
    "df.isnull().sum()\n"
   ]
  },
  {
   "cell_type": "markdown",
   "id": "3fc8107e-e715-4427-8701-764b37c0fc9e",
   "metadata": {},
   "source": [
    "### Nulos: FECHA DE NACIMIENTO \\nDÍA-MES-AÑO"
   ]
  },
  {
   "cell_type": "code",
   "execution_count": null,
   "id": "7b7a577f-3c7c-4306-9237-f28695b108a7",
   "metadata": {},
   "outputs": [],
   "source": [
    "# mostramos fecha de nacimiento nulas\n",
    "\n",
    "df.loc[(df.loc[:, \"FECHA DE NACIMIENTO \\nDÍA-MES-AÑO\"].isnull())]"
   ]
  },
  {
   "cell_type": "code",
   "execution_count": null,
   "id": "ad958e98-b1de-4ba5-8954-d787751aa5d2",
   "metadata": {},
   "outputs": [],
   "source": [
    "df.dtypes"
   ]
  },
  {
   "cell_type": "markdown",
   "id": "776b5ce5-05d3-4834-a40a-2d2ddeab7130",
   "metadata": {},
   "source": [
    "Para rellenar las fechas se lo va a realizar mediante un promedio de cada curso, para los estudiantes que tiene discapacidad."
   ]
  },
  {
   "cell_type": "code",
   "execution_count": null,
   "id": "45a29f2c-c46f-438a-b0d7-bf8a9c41df34",
   "metadata": {},
   "outputs": [],
   "source": [
    "cursos=df['GRADO O CURSO\\n2023 2024'].unique()\n",
    "cursos\n"
   ]
  },
  {
   "cell_type": "markdown",
   "id": "f64bc53f-d07a-4bc1-b2fa-bf94e3a55199",
   "metadata": {},
   "source": [
    "Se enecunentra mal escrito 1RO EGB===> 1ERO EGD "
   ]
  },
  {
   "cell_type": "code",
   "execution_count": null,
   "id": "01679d0a-dca5-4f7b-9e42-e790a216cb7d",
   "metadata": {},
   "outputs": [],
   "source": [
    "# corrregir sintaxis de los datos\n",
    "filtro = (df[\"GRADO O CURSO\\n2023 2024\"] == \"1RO EGB\")\n",
    "# Usar loc para actualizar el valor \n",
    "df.loc[filtro, 'GRADO O CURSO\\n2023 2024'] = '1ERO EGB'"
   ]
  },
  {
   "cell_type": "code",
   "execution_count": null,
   "id": "16c1bfef-8650-4881-909b-65610fa171c4",
   "metadata": {},
   "outputs": [],
   "source": [
    "cursos=df['GRADO O CURSO\\n2023 2024'].unique()\n",
    "cursos\n"
   ]
  },
  {
   "cell_type": "markdown",
   "id": "bec819cf-c6b7-432b-8f22-4f932b14753e",
   "metadata": {},
   "source": [
    "Agrupar por cusros y sacar el promedio e insertar en los nulos los promedio de cada cursos para los alumnos con discapacida"
   ]
  },
  {
   "cell_type": "code",
   "execution_count": null,
   "id": "490721ec-640a-4c97-8f70-26369f3dfeab",
   "metadata": {},
   "outputs": [],
   "source": [
    "# la funcion crea un filtro para cada conjunto de cursos en donde se tenga alguna discapacidad\n",
    "for i in cursos:\n",
    "    # Filtrar el DataFrame para para cada curso \n",
    "    mask = (df[\"GRADO O CURSO\\n2023 2024\"] == i) & (df['TIPOD'] != 'NINGUNA') \n",
    " # Calcular la media de las fechas disponibles para para el curso\n",
    "    mean_date = df.loc[mask, 'FECHA DE NACIMIENTO \\nDÍA-MES-AÑO'].mean()\n",
    "    print(i)\n",
    "    print(mean_date)\n",
    "    \n",
    "    df.loc[mask, 'FECHA DE NACIMIENTO \\nDÍA-MES-AÑO'] = df.loc[mask, 'FECHA DE NACIMIENTO \\nDÍA-MES-AÑO'].fillna(mean_date) \n"
   ]
  },
  {
   "cell_type": "code",
   "execution_count": null,
   "id": "abc43511-5621-4daf-a072-f4320dc18c3a",
   "metadata": {},
   "outputs": [],
   "source": [
    "df.loc[(df[\"GRADO O CURSO\\n2023 2024\"] == \"3ERO BACHILLERATO\")]"
   ]
  },
  {
   "cell_type": "code",
   "execution_count": null,
   "id": "9228b8ec-5288-4d78-bbde-9b445084e6db",
   "metadata": {},
   "outputs": [],
   "source": [
    "# validnado nulos\n",
    "df.loc[(df.loc[:, \"FECHA DE NACIMIENTO \\nDÍA-MES-AÑO\"].isnull())]"
   ]
  },
  {
   "cell_type": "markdown",
   "id": "115794c3-73ab-4197-bbbf-af47e9db4372",
   "metadata": {},
   "source": [
    "Se palica la misma logica para llenar la fecha de nacimiento para personas que no tienen discapacidad\n"
   ]
  },
  {
   "cell_type": "code",
   "execution_count": null,
   "id": "3684bc5c-c8f2-444b-8805-82f27d7dff04",
   "metadata": {},
   "outputs": [],
   "source": [
    "# la funcion crea un filtro para cada conjunto de cursos en donde se tenga alguna discapacidad\n",
    "for i in cursos:\n",
    "    # Filtrar el DataFrame para para cada curso \n",
    "    mask = (df[\"GRADO O CURSO\\n2023 2024\"] == i) & (df['TIPOD'] == 'NINGUNA') \n",
    " # Calcular la media de las fechas disponibles para para el curso\n",
    "    mean_date = df.loc[mask, 'FECHA DE NACIMIENTO \\nDÍA-MES-AÑO'].mean()\n",
    "   \n",
    "        \n",
    "    #print( mean_date)\n",
    "    #print(mean_date)\n",
    "    \n",
    "    df.loc[mask, 'FECHA DE NACIMIENTO \\nDÍA-MES-AÑO'] = df.loc[mask, 'FECHA DE NACIMIENTO \\nDÍA-MES-AÑO'].fillna(mean_date) \n"
   ]
  },
  {
   "cell_type": "code",
   "execution_count": null,
   "id": "3f1b7fd7-acf1-4f28-bff0-6b2219b33371",
   "metadata": {},
   "outputs": [],
   "source": [
    "# validnado nulos\n",
    "df.loc[(df.loc[:, \"FECHA DE NACIMIENTO \\nDÍA-MES-AÑO\"].isnull())]"
   ]
  },
  {
   "cell_type": "markdown",
   "id": "c2d80b2b-fbd6-4fa2-be7e-e56aa8950add",
   "metadata": {},
   "source": [
    "Se inserta fechas normales en una poblacion sin discapacidad basandose en el curso que esta, tomando en cuenta que se ingresa a 1ero a los 5 años"
   ]
  },
  {
   "cell_type": "code",
   "execution_count": null,
   "id": "3e92d988-b4cd-4fb0-a223-c436995027f0",
   "metadata": {},
   "outputs": [],
   "source": [
    "# Definir el filtro para las condiciones \n",
    "filtro1 = (df[\"GRADO O CURSO\\n2023 2024\"] == \"3ERO BACHILLERATO\") & (df['TIPOD'] == 'NINGUNA') \n",
    "filtro2 = (df[\"GRADO O CURSO\\n2023 2024\"] == \"1ERO EGB\") & (df['TIPOD'] == 'NINGUNA') \n",
    "# Usar loc para actualizar el valor \n",
    "df.loc[filtro1, 'FECHA DE NACIMIENTO \\nDÍA-MES-AÑO'] = pd.to_datetime('2007-01-01')\n",
    "df.loc[filtro2, 'FECHA DE NACIMIENTO \\nDÍA-MES-AÑO'] = pd.to_datetime('2019-01-01')\n"
   ]
  },
  {
   "cell_type": "code",
   "execution_count": null,
   "id": "6dbf28db-ef55-4182-af4a-628c23d0aa9b",
   "metadata": {},
   "outputs": [],
   "source": [
    "\n",
    "df.loc[(df[\"GRADO O CURSO\\n2023 2024\"] == \"3ERO BACHILLERATO\") & (df['TIPOD'] == 'NINGUNA')]"
   ]
  },
  {
   "cell_type": "code",
   "execution_count": null,
   "id": "fb1a9710-963f-4895-87c9-3d2d8a2ea1df",
   "metadata": {},
   "outputs": [],
   "source": [
    "df.isnull().sum()"
   ]
  },
  {
   "cell_type": "markdown",
   "id": "6023fa70-06ce-44ed-836f-c55ee9511a40",
   "metadata": {},
   "source": [
    "## Calcular Edad"
   ]
  },
  {
   "cell_type": "code",
   "execution_count": null,
   "id": "cf372869-72ce-4f36-8bd0-663a4193864a",
   "metadata": {},
   "outputs": [],
   "source": [
    "#Se verifica el formato de la fecha\n",
    "df['FECHA DE NACIMIENTO \\nDÍA-MES-AÑO'] "
   ]
  },
  {
   "cell_type": "code",
   "execution_count": null,
   "id": "b33d8141-634b-48a0-a16f-03e82f7884b3",
   "metadata": {},
   "outputs": [],
   "source": [
    "# Funcion para calcular la edad hasta el 06-08-2024 en funcion de la fecha de nacimiento\n",
    "from datetime import datetime\n",
    "fecha_referencia = datetime(2024, 7, 2)\n",
    "def calcular_edad(fecha_nacimiento, fecha_referencia):\n",
    "    return fecha_referencia.year - fecha_nacimiento.year - ((fecha_referencia.month, fecha_referencia.day) < (fecha_nacimiento.month, fecha_nacimiento.day))\n",
    "\n",
    "#df['Fecha de Nacimiento'] = pd.to_datetime(df['FECHA DE NACIMIENTO \\nDÍA-MES-AÑO'])  # Asegúrate de que la columna sea de tipo datetime\n",
    "\n"
   ]
  },
  {
   "cell_type": "code",
   "execution_count": null,
   "id": "2bd7fdbd-f829-40fb-ad96-cee8640e18a4",
   "metadata": {},
   "outputs": [],
   "source": [
    "# Agregar una nueva columna de edad\n",
    "df['Edad'] = df['FECHA DE NACIMIENTO \\nDÍA-MES-AÑO'].apply(lambda x: calcular_edad(x, fecha_referencia))\n",
    "df"
   ]
  },
  {
   "cell_type": "markdown",
   "id": "3bdc09e8-e490-49f6-90ce-8f9096c0c817",
   "metadata": {},
   "source": [
    "## Seelccion de data para analisis"
   ]
  },
  {
   "cell_type": "markdown",
   "id": "0c511dee-f2f3-4be8-877c-31f52f5e31c1",
   "metadata": {},
   "source": [
    "La cedula y apellidos y nombre seran eliminados debido a que son valores unicos en el caso de la cedula. se eliminara la fecha de nacimiento ya que esta relacionado con la edad"
   ]
  },
  {
   "cell_type": "code",
   "execution_count": null,
   "id": "da7a037e-87e8-4abd-9bf5-483462875136",
   "metadata": {},
   "outputs": [],
   "source": [
    "df"
   ]
  },
  {
   "cell_type": "code",
   "execution_count": null,
   "id": "9ee9140f-7ec6-43cd-bc84-8e33fd51fe44",
   "metadata": {},
   "outputs": [],
   "source": [
    "df_new=df.drop(columns=df.columns[[0,1,2]])\n",
    "df_new"
   ]
  },
  {
   "cell_type": "markdown",
   "id": "d24da376-650a-4b96-8f05-e0ae865c8de8",
   "metadata": {},
   "source": [
    "## Tipo de datos"
   ]
  },
  {
   "cell_type": "code",
   "execution_count": null,
   "id": "dab7e6a8-4e10-4c09-8dca-ac291188b682",
   "metadata": {},
   "outputs": [],
   "source": [
    "\n",
    "df_new.dtypes"
   ]
  },
  {
   "cell_type": "code",
   "execution_count": null,
   "id": "88209380-0189-4b5d-ba23-ac1c50d699b0",
   "metadata": {},
   "outputs": [],
   "source": [
    "#categorical_mappings = {\n",
    " #   'TIENE CARNE \\nSI/NO': 'category',\n",
    "  #  'TIPOD': 'category',\n",
    "   # 'GRADO O CURSO\\n2023 2024': 'category'\n",
    "\n",
    "#}\n",
    "\n",
    "#df_new = df_new.astype(categorical_mappings)\n"
   ]
  },
  {
   "cell_type": "code",
   "execution_count": null,
   "id": "2e7ad1e4-87d8-4ff9-92af-3bca5e49d760",
   "metadata": {},
   "outputs": [],
   "source": [
    "#df_new.dtypes"
   ]
  },
  {
   "cell_type": "markdown",
   "id": "ebf5b9ae-ea65-4554-9db5-a2ec102c77d0",
   "metadata": {},
   "source": [
    "## Codificar valores Categoricas nominales"
   ]
  },
  {
   "cell_type": "code",
   "execution_count": null,
   "id": "08258d6d-0612-46db-923b-6f60e13c4e7d",
   "metadata": {},
   "outputs": [],
   "source": [
    "df_new['TIPOD'].unique()\n"
   ]
  },
  {
   "cell_type": "code",
   "execution_count": null,
   "id": "51c458f8-d972-4a99-9a34-bba8f864a480",
   "metadata": {},
   "outputs": [],
   "source": [
    "# nominales \n",
    "\n",
    "carnet_mapping = {'SI': 1, 'NO': 0}\n",
    "df_new['TIENE CARNE \\nSI/NO'] = df_new['TIENE CARNE \\nSI/NO'].map(carnet_mapping)\n",
    "# colocamos en true para que borre una columna y asi evitar colinelaidad\n",
    "df_new= pd.get_dummies(df_new, columns=['TIPOD'], prefix='TIPOD', drop_first=False)\n",
    "#df = pd.get_dummies(df, columns=['Marital_Status'], prefix='Marital_Status', drop_first=True)\n"
   ]
  },
  {
   "cell_type": "markdown",
   "id": "f5b4feac-a823-4ed7-bb6e-42eb917874c4",
   "metadata": {},
   "source": [
    "## Codificar valores categoricos ordinales"
   ]
  },
  {
   "cell_type": "code",
   "execution_count": null,
   "id": "ae4ee554-12a0-4b65-80fc-c0d8a7beb762",
   "metadata": {},
   "outputs": [],
   "source": [
    "df_new['GRADO O CURSO\\n2023 2024'].unique()"
   ]
  },
  {
   "cell_type": "code",
   "execution_count": null,
   "id": "29855c35-eab6-4a6e-8788-7bf95900c2a0",
   "metadata": {},
   "outputs": [],
   "source": [
    "class_mapping = {'INICIAL 2': 0, '1ERO EGB': 1,\n",
    "                '2DO EGB':2, '3ERO EGB':3, '4TO EGB':4,\n",
    "       '5TO EGB':5, '6TO EGB':6, '7MO EGB':7, '8VO EGB':8, '9NO EGB':9, '10MO EGB':10,\n",
    "       '1ERO BACHILLERATO':11, '2DO BACHILLERATO':12, '3ERO BACHILLERATO':13}\n",
    "\n",
    "df_new['GRADO O CURSO\\n2023 2024'] = df_new['GRADO O CURSO\\n2023 2024'].map(class_mapping)\n"
   ]
  },
  {
   "cell_type": "code",
   "execution_count": null,
   "id": "22820ca2-17fd-4c27-a020-12d6b366d018",
   "metadata": {},
   "outputs": [],
   "source": [
    "df_new"
   ]
  },
  {
   "cell_type": "markdown",
   "id": "a7c23941-69d9-426e-bcd4-9801c495dafa",
   "metadata": {},
   "source": [
    "## Correlacion"
   ]
  },
  {
   "cell_type": "code",
   "execution_count": null,
   "id": "31d8b7c1-227d-4cc3-be44-c3fbaaf40379",
   "metadata": {},
   "outputs": [],
   "source": [
    "cov_matrix = df_new.corr()\n",
    "# Crear el mapa de calor\n",
    "plt.figure(figsize=(15, 12))\n",
    "sns.heatmap(cov_matrix, annot=True, fmt='.2f', cmap='coolwarm', cbar=True)\n",
    "plt.title('Matriz de Correlacion')\n",
    "plt.show(block=True)"
   ]
  },
  {
   "cell_type": "markdown",
   "id": "9aaabbf1-4a13-470c-a9da-737435fdc0c3",
   "metadata": {},
   "source": [
    "Se eliminia la edad ya que tiene alta correlacion"
   ]
  },
  {
   "cell_type": "code",
   "execution_count": null,
   "id": "b27a84ab-c162-4e35-825b-1a4498a631ef",
   "metadata": {},
   "outputs": [],
   "source": [
    "\n",
    "df_new=df_new.drop(['Edad','TIPOD_NINGUNA'], axis=1) "
   ]
  },
  {
   "cell_type": "code",
   "execution_count": null,
   "id": "88ba02ce-46d5-46c5-a24b-415febf65f9a",
   "metadata": {},
   "outputs": [],
   "source": [
    "df_new.dtypes"
   ]
  },
  {
   "cell_type": "code",
   "execution_count": null,
   "id": "9c41b7ab-e0b0-4b66-9619-a6a25fd86416",
   "metadata": {},
   "outputs": [],
   "source": [
    "df_new['TIPOD_AUDITIVA'] = df_new['TIPOD_AUDITIVA'].astype(int)\n",
    "df_new['TIPOD_AUTISMO'] = df_new['TIPOD_AUTISMO'].astype(int)\n",
    "df_new['TIPOD_FISICA'] = df_new['TIPOD_FISICA'].astype(int)\n",
    "df_new['TIPOD_INTELECTUAL'] = df_new['TIPOD_INTELECTUAL'].astype(int)\n",
    "df_new['TIPOD_PSICOSOCIAL'] = df_new['TIPOD_PSICOSOCIAL'].astype(int)\n",
    "df_new['TIPOD_VISUAL'] = df_new['TIPOD_VISUAL'].astype(int)"
   ]
  },
  {
   "cell_type": "markdown",
   "id": "60415988-d784-48c1-b9d7-9bc7502d69f3",
   "metadata": {},
   "source": [
    "# Entrenamiento: Clustering"
   ]
  },
  {
   "cell_type": "code",
   "execution_count": null,
   "id": "11242a5b-0910-4760-9c20-1280cb5baf1c",
   "metadata": {},
   "outputs": [],
   "source": [
    "df_new"
   ]
  },
  {
   "cell_type": "markdown",
   "id": "4895960b-088d-4d2a-ab90-2abc14ead372",
   "metadata": {},
   "source": [
    "## Normalizar"
   ]
  },
  {
   "cell_type": "code",
   "execution_count": null,
   "id": "77ee4721-6241-4ed6-93d1-fcef457590be",
   "metadata": {},
   "outputs": [],
   "source": [
    "# Normalizar los datos\n",
    "\n",
    "\n",
    "scaler = StandardScaler()\n",
    "df_scaled= scaler.fit_transform(df_new)\n"
   ]
  },
  {
   "cell_type": "code",
   "execution_count": null,
   "id": "9aa0fa85-7d97-48df-9112-c7282c587d50",
   "metadata": {},
   "outputs": [],
   "source": [
    "df_scaled"
   ]
  },
  {
   "cell_type": "code",
   "execution_count": null,
   "id": "61770225-63b0-4e35-b492-229b8ff115b1",
   "metadata": {},
   "outputs": [],
   "source": [
    "# Create an empty list\n",
    "wcss=[]\n",
    "\n",
    "# Create all possible cluster solutions with a loop\n",
    "for i in range(1,30):\n",
    "    # Cluster solution with i clusters\n",
    "    kmeans = KMeans(i)\n",
    "    # Fit the data\n",
    "    kmeans.fit(df_scaled)\n",
    "    # Find WCSS for the current iteration\n",
    "    wcss_iter = kmeans.inertia_\n",
    "    # Append the value to the WCSS list\n",
    "    wcss.append(wcss_iter)"
   ]
  },
  {
   "cell_type": "code",
   "execution_count": null,
   "id": "030362ee-3a1c-4983-ae2a-439007827033",
   "metadata": {},
   "outputs": [],
   "source": [
    "wcss"
   ]
  },
  {
   "cell_type": "code",
   "execution_count": null,
   "id": "7bec8d76-4b60-4fb2-b5db-9c784cc5fda8",
   "metadata": {},
   "outputs": [],
   "source": [
    "# Create a variable containing the numbers from 1 to 6, so we can use it as X axis of the future plot\n",
    "number_clusters = range(1,30)\n",
    "# Plot the number of clusters vs WCSS\n",
    "plt.plot(number_clusters,wcss)\n",
    "# Name your graph\n",
    "plt.title('The Elbow Method')\n",
    "# Name the x-axis\n",
    "plt.xlabel('Number of clusters')\n",
    "# Name the y-axis\n",
    "plt.ylabel('Within-cluster Sum of Squares')"
   ]
  },
  {
   "cell_type": "code",
   "execution_count": null,
   "id": "44b416ff-0731-47bd-ba76-9cb1260493a2",
   "metadata": {},
   "outputs": [],
   "source": [
    "# Fiddle with K (the number of clusters)\n",
    "kmeans_new = KMeans(9)\n",
    "# Fit the data\n",
    "kmeans_new.fit(df_scaled)\n",
    "# Create a new data frame with the predicted clusters\n",
    "clusters_new = df_new.copy()\n",
    "clusters_new['cluster'] = kmeans_new.fit_predict(df_scaled)"
   ]
  },
  {
   "cell_type": "code",
   "execution_count": null,
   "id": "1ea2adba-caf1-4f58-b838-ed034b739621",
   "metadata": {},
   "outputs": [],
   "source": [
    "clusters_new"
   ]
  },
  {
   "cell_type": "code",
   "execution_count": null,
   "id": "11df184e-b99b-4eaa-a42e-3fe81fee4bac",
   "metadata": {},
   "outputs": [],
   "source": [
    "\n",
    "plt.scatter(clusters_new['PORCENTAJE\\n%'], clusters_new['GRADO O CURSO\\n2023 2024'], c=clusters_new['cluster'], cmap='rainbow')\n",
    "plt.xlabel('PORCENTAJE\\n%')\n",
    "plt.ylabel('GRADO O CURSO\\n2023 2024')\n",
    "plt.title('Clustering con K-means')\n",
    "plt.show()"
   ]
  },
  {
   "cell_type": "code",
   "execution_count": null,
   "id": "3d146cee-1e35-4329-9bfa-2b6f7cb2b7d7",
   "metadata": {},
   "outputs": [],
   "source": [
    "# Análisis descriptivo por clúster\n",
    "cluster_analysis = clusters_new.groupby('cluster').mean()"
   ]
  },
  {
   "cell_type": "code",
   "execution_count": null,
   "id": "31ceb0c5-1859-4830-8411-1df8880924aa",
   "metadata": {},
   "outputs": [],
   "source": [
    "tools.display_dataframe_to_user(name=\"Cluster Analysis\", dataframe=cluster_analysis)"
   ]
  },
  {
   "cell_type": "code",
   "execution_count": null,
   "id": "d96fcd8f-1a09-4424-a552-a957634e0897",
   "metadata": {},
   "outputs": [],
   "source": []
  }
 ],
 "metadata": {
  "kernelspec": {
   "display_name": "Python 3 (ipykernel)",
   "language": "python",
   "name": "python3"
  },
  "language_info": {
   "codemirror_mode": {
    "name": "ipython",
    "version": 3
   },
   "file_extension": ".py",
   "mimetype": "text/x-python",
   "name": "python",
   "nbconvert_exporter": "python",
   "pygments_lexer": "ipython3",
   "version": "3.12.3"
  }
 },
 "nbformat": 4,
 "nbformat_minor": 5
}
